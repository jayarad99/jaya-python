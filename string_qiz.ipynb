{
 "cells": [
  {
   "cell_type": "code",
   "execution_count": 4,
   "metadata": {},
   "outputs": [
    {
     "name": "stdout",
     "output_type": "stream",
     "text": [
      "\n"
     ]
    }
   ],
   "source": [
    "#  create string & print it\n",
    "a = input(\"Enter a number:\")\n",
    "print(a)\n"
   ]
  },
  {
   "cell_type": "code",
   "execution_count": 5,
   "metadata": {},
   "outputs": [
    {
     "name": "stdout",
     "output_type": "stream",
     "text": [
      "2\n",
      "4\n"
     ]
    }
   ],
   "source": [
    "# take a string input & print it's length.\n",
    "a = (\"vid\", \"jaya\")\n",
    "print(len(a))\n",
    "\n",
    "b = (\"jaya\")\n",
    "print(len(b))"
   ]
  },
  {
   "cell_type": "code",
   "execution_count": 6,
   "metadata": {},
   "outputs": [
    {
     "data": {
      "text/plain": [
       "' great'"
      ]
     },
     "execution_count": 6,
     "metadata": {},
     "output_type": "execute_result"
    }
   ],
   "source": [
    "# print the last word of the string Python is great using slices.\n",
    "a = (\"Python is great\")\n",
    "a[9 :]"
   ]
  },
  {
   "cell_type": "code",
   "execution_count": 7,
   "metadata": {},
   "outputs": [
    {
     "name": "stdout",
     "output_type": "stream",
     "text": [
      "Python\n",
      "        is\n",
      "     everywhere\n"
     ]
    }
   ],
   "source": [
    "# print the each word in different line of string python is everywhere.\n",
    "a = ('''Python\n",
    "        is\n",
    "     everywhere''')\n",
    "print(a)"
   ]
  },
  {
   "cell_type": "code",
   "execution_count": 8,
   "metadata": {},
   "outputs": [
    {
     "name": "stdout",
     "output_type": "stream",
     "text": [
      "dlroW olleH\n"
     ]
    }
   ],
   "source": [
    "# print the string Hello world! in reversed.\n",
    "\n",
    "txt = \"Hello World\"[::-1]\n",
    "print(txt)\n",
    "\n",
    "\n"
   ]
  },
  {
   "cell_type": "code",
   "execution_count": 9,
   "metadata": {},
   "outputs": [
    {
     "name": "stdout",
     "output_type": "stream",
     "text": [
      "HOW ARE YOU?\n"
     ]
    }
   ],
   "source": [
    "# convert the string how are you?in uppercase.\n",
    "a = \"how are you?\"\n",
    "print(a.upper())\n"
   ]
  },
  {
   "cell_type": "code",
   "execution_count": 10,
   "metadata": {},
   "outputs": [
    {
     "name": "stdout",
     "output_type": "stream",
     "text": [
      "how is it going?\n"
     ]
    }
   ],
   "source": [
    "# convert string How Is It Going? in lowercase\n",
    "\n",
    "a = \"How Is It Going?\"\n",
    "print(a.lower())"
   ]
  },
  {
   "cell_type": "code",
   "execution_count": 11,
   "metadata": {},
   "outputs": [],
   "source": [
    "#join the following list by spaces( )and print the result.\n",
    "\n",
    "#wordlist =[ 'Python, 'is','easy',]\n"
   ]
  },
  {
   "cell_type": "code",
   "execution_count": 12,
   "metadata": {},
   "outputs": [
    {
     "data": {
      "text/plain": [
       "'w_o_r_d_l_i_s_t'"
      ]
     },
     "execution_count": 12,
     "metadata": {},
     "output_type": "execute_result"
    }
   ],
   "source": [
    "'_'.join('wordlist')\n"
   ]
  },
  {
   "cell_type": "code",
   "execution_count": 13,
   "metadata": {},
   "outputs": [
    {
     "name": "stdout",
     "output_type": "stream",
     "text": [
      "\n",
      "text\n",
      "text\n",
      "text\n",
      "\n"
     ]
    }
   ],
   "source": [
    "# print a multiline string using a single print\n",
    "\n",
    "a = \"\"\"\n",
    "text\n",
    "text\n",
    "text\n",
    "\"\"\"\n",
    "print(a)"
   ]
  },
  {
   "cell_type": "code",
   "execution_count": 14,
   "metadata": {},
   "outputs": [
    {
     "name": "stdout",
     "output_type": "stream",
     "text": [
      "Hello, World!\n"
     ]
    },
    {
     "data": {
      "text/plain": [
       "'Hello, World!\\n'"
      ]
     },
     "execution_count": 14,
     "metadata": {},
     "output_type": "execute_result"
    }
   ],
   "source": [
    "# print the string to move to newline '\\n' is used.(results should look exactly like the provided string)\n",
    "print(\"Hello, World!\")\n",
    "\"Hello, World!\\n\""
   ]
  },
  {
   "cell_type": "code",
   "execution_count": 15,
   "metadata": {},
   "outputs": [
    {
     "name": "stdout",
     "output_type": "stream",
     "text": [
      "jaya\n",
      "15\n"
     ]
    }
   ],
   "source": [
    "# print a variable with some text using a single print function,output should look liked following.variable is 15.\n",
    "\n",
    "a = \"jaya\"\n",
    "b  = 15\n",
    "print(a)\n",
    "print(b)"
   ]
  },
  {
   "cell_type": "code",
   "execution_count": 16,
   "metadata": {},
   "outputs": [
    {
     "name": "stdout",
     "output_type": "stream",
     "text": [
      "<class 'str'>\n",
      "pythoniseasy\n"
     ]
    }
   ],
   "source": [
    "# conctenate the following strings and print the result\n",
    "# s1 = 'python'\n",
    "# s2 = 'is'\n",
    "# s3 ='great'\n",
    "s1 =  \"python\"\n",
    "s2 =  \"is\"\n",
    "s3 =  \"easy\"\n",
    "print(type(s1))\n",
    "s4 = s1  + s2  + s3\n",
    "print(s4)"
   ]
  },
  {
   "cell_type": "code",
   "execution_count": 17,
   "metadata": {},
   "outputs": [
    {
     "name": "stdout",
     "output_type": "stream",
     "text": [
      "####################\n"
     ]
    }
   ],
   "source": [
    "# print #20 times w/o using a loop\n",
    "print('#'* 20)"
   ]
  },
  {
   "cell_type": "code",
   "execution_count": 18,
   "metadata": {},
   "outputs": [
    {
     "name": "stdout",
     "output_type": "stream",
     "text": [
      "1.\n",
      "2.\n",
      "3.\n",
      "4.\n",
      "5.\n",
      "6.\n",
      "7.\n",
      "8.\n",
      "9.\n"
     ]
    }
   ],
   "source": [
    "# print numbers from 1 to 9 each on a seprate line,followed by a dot,o/p should look like this\n",
    "1.\n",
    "2.\n",
    "3.\n",
    "for i in range(1,10):\n",
    "    print(f\"{i}.\")"
   ]
  },
  {
   "cell_type": "code",
   "execution_count": 19,
   "metadata": {},
   "outputs": [
    {
     "name": "stdout",
     "output_type": "stream",
     "text": [
      "this\n",
      "is\n",
      "text\n"
     ]
    }
   ],
   "source": [
    "# ask user to i/p  a sentence & print each word on a diff line\n",
    "a = input('ENTER A SENTENCE')\n",
    "\n",
    "b = a.split(' ')\n",
    "\n",
    "for i in b:\n",
    "    print(i)"
   ]
  },
  {
   "cell_type": "code",
   "execution_count": 31,
   "metadata": {},
   "outputs": [
    {
     "name": "stdout",
     "output_type": "stream",
     "text": [
      "wht is your name?\n",
      "i found it\n",
      "enter\n"
     ]
    }
   ],
   "source": [
    "# ask user to i/p a string & check if the string ends with \"\n",
    "\n",
    "give_input = input('enter here')\n",
    "print(give_input)\n",
    "\n",
    "if '?'in give_input:\n",
    "    print('i found it')\n",
    "    print('enter')\n"
   ]
  },
  {
   "cell_type": "code",
   "execution_count": 21,
   "metadata": {},
   "outputs": [],
   "source": [
    "# ask user to i/p a string & print how many times e appeared in the string.\n",
    "string = input(\"Enter a string:\")\n",
    "lste= []\n",
    "for char in string:\n",
    "    if char not in lste:\n",
    "        lste.append(char)\n",
    "for item in lste:\n",
    "    print(item,string.count(item),sep=\",\")   \n",
    "   \n"
   ]
  },
  {
   "cell_type": "code",
   "execution_count": 22,
   "metadata": {},
   "outputs": [
    {
     "name": "stdout",
     "output_type": "stream",
     "text": [
      "Printing type of input value\n",
      "type of number  <class 'str'>\n",
      "what is your name?\n"
     ]
    }
   ],
   "source": [
    "# check if user input is a number\n",
    "number1 =input(\"Enter number and hit enter \")\n",
    "print(\"Printing type of input value\")\n",
    "print(\"type of number \", type(number1))\n",
    "print(number1)\n"
   ]
  },
  {
   "cell_type": "code",
   "execution_count": 23,
   "metadata": {},
   "outputs": [
    {
     "name": "stdout",
     "output_type": "stream",
     "text": [
      "what is your name?\n"
     ]
    }
   ],
   "source": [
    "# removing the extra spaces in beginning and in the end of following string= text = 'this is not a good string '\n",
    "a =input(\"Enter a text\")\n",
    "a.strip()\n",
    "print(a)\n",
    "\n",
    "\n",
    "\n"
   ]
  },
  {
   "cell_type": "code",
   "execution_count": 24,
   "metadata": {},
   "outputs": [
    {
     "name": "stdout",
     "output_type": "stream",
     "text": [
      "False\n",
      "False\n"
     ]
    }
   ],
   "source": [
    "# ask user to input string,print found if any of the character is upper case.\n",
    "print( 'f' .isupper())\n",
    "print( 'u' .isupper())"
   ]
  },
  {
   "cell_type": "code",
   "execution_count": 25,
   "metadata": {},
   "outputs": [
    {
     "name": "stdout",
     "output_type": "stream",
     "text": [
      "['Joe', 'David', 'Mark', 'Tom', 'Chris', 'Robert']\n"
     ]
    }
   ],
   "source": [
    "#extract names from the following string and store them in a list\n",
    " #x = 'Joe , David , Mark ,Tom , Chris, Robert'\n",
    "stringList = ['Joe', 'David','Mark','Tom','Chris','Robert']\n",
    "newList =[string[:6]for string in stringList]\n",
    "print(stringList)\n"
   ]
  },
  {
   "cell_type": "code",
   "execution_count": 26,
   "metadata": {},
   "outputs": [
    {
     "name": "stdout",
     "output_type": "stream",
     "text": [
      "sepr = ['this', 'is', 'some', 'text']\n",
      "this aye\n",
      "is aye\n",
      "some aye\n",
      "text aye\n"
     ]
    }
   ],
   "source": [
    "# in the following string,add aye in the end of every word and print the results text = 'this is some text'\n",
    "#txt = 'this is some text'\n",
    "text ='this is some text'\n",
    "sepr =text.split(' ')\n",
    "\n",
    "print('sepr =',sepr)\n",
    "\n",
    "for a in sepr:\n",
    "    print(a,'aye')"
   ]
  },
  {
   "cell_type": "code",
   "execution_count": 27,
   "metadata": {},
   "outputs": [
    {
     "name": "stdout",
     "output_type": "stream",
     "text": [
      "True\n",
      "i was late for the recital, and fyi, mall, not the fourth\n"
     ]
    }
   ],
   "source": [
    "# ask user to enter a string and check if the string contains fyi\n",
    "txt =\"i was late for the recital, and fyi, mall, not the fourth\"\n",
    "x = \"fyi\" in txt\n",
    "print(x)\n",
    "print(txt)\n"
   ]
  },
  {
   "cell_type": "code",
   "execution_count": 28,
   "metadata": {},
   "outputs": [
    {
     "name": "stdout",
     "output_type": "stream",
     "text": [
      "python\n",
      "%34@!*_*!68#&404\n"
     ]
    }
   ],
   "source": [
    "# remove all the special characters and numbers from the following string text = '%p34@y!*_*!t68h#\n",
    "text ='%p34@y!*_*!t68h#&on404'\n",
    "a =\"\"\n",
    "r =\"\"\n",
    "for i in text:\n",
    "    if i.isalpha():\n",
    "        a = a+i\n",
    "    else:\n",
    "        r = r+i\n",
    "print(a)\n",
    "\n",
    "print(r)"
   ]
  },
  {
   "cell_type": "code",
   "execution_count": 29,
   "metadata": {},
   "outputs": [
    {
     "name": "stdout",
     "output_type": "stream",
     "text": [
      "python\n",
      "total no.of words = 6\n",
      "d 123\n",
      "length of total characters in paragraph = 123\n",
      "average word length= 20.5\n"
     ]
    }
   ],
   "source": [
    "# calculate the average word length of the following paragraph\n",
    "txt ='this is a paragarph which is written just for the purpose of providing content to let the average word length be calculated'\n",
    "sep_words = txt.split(' ')\n",
    "print(a)\n",
    "l = len(a)\n",
    "\n",
    "print('total no.of words =',l)\n",
    "new_txt = txt.replace('',\"\")\n",
    "\n",
    "sum = 0\n",
    "for i in new_txt:\n",
    "    sum=sum+1\n",
    "print(i,sum)\n",
    "\n",
    " #OR\n",
    " #len(new_txt)  \n",
    "  \n",
    "print('length of total characters in paragraph =',sum) \n",
    "print('average word length=',sum/l)\n",
    "\n",
    " #for index,word in enumrate(a):\n",
    " # sum =indx+sum\n"
   ]
  },
  {
   "cell_type": "code",
   "execution_count": null,
   "metadata": {},
   "outputs": [],
   "source": []
  }
 ],
 "metadata": {
  "interpreter": {
   "hash": "e81d28461f6f899f1a26af0bc7a84c40cadece640d2bc8d7eeaa30473e07ec92"
  },
  "kernelspec": {
   "display_name": "Python 3.9.7 64-bit",
   "language": "python",
   "name": "python3"
  },
  "language_info": {
   "codemirror_mode": {
    "name": "ipython",
    "version": 3
   },
   "file_extension": ".py",
   "mimetype": "text/x-python",
   "name": "python",
   "nbconvert_exporter": "python",
   "pygments_lexer": "ipython3",
   "version": "3.9.7"
  },
  "orig_nbformat": 4
 },
 "nbformat": 4,
 "nbformat_minor": 2
}
