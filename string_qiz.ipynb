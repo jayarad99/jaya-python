{
 "cells": [
  {
   "cell_type": "code",
   "execution_count": 1,
   "metadata": {},
   "outputs": [
    {
     "name": "stdout",
     "output_type": "stream",
     "text": [
      "76\n"
     ]
    }
   ],
   "source": [
    "#  create string & print it\n",
    "a = input(\"Enter a number:\")\n",
    "print(a)\n"
   ]
  },
  {
   "cell_type": "code",
   "execution_count": 3,
   "metadata": {},
   "outputs": [
    {
     "data": {
      "text/plain": [
       "4"
      ]
     },
     "execution_count": 3,
     "metadata": {},
     "output_type": "execute_result"
    }
   ],
   "source": [
    "# take a string input & print it's length.\n",
    "a = (\"vid\", \"jaya\")\n",
    "len(a)\n",
    "\n",
    "b = (\"jaya\")\n",
    "len(b)"
   ]
  },
  {
   "cell_type": "code",
   "execution_count": 13,
   "metadata": {},
   "outputs": [
    {
     "data": {
      "text/plain": [
       "' great'"
      ]
     },
     "execution_count": 13,
     "metadata": {},
     "output_type": "execute_result"
    }
   ],
   "source": [
    "# print the last word of the string Python is great using slices.\n",
    "a = (\"Python is great\")\n",
    "a[9 :]"
   ]
  },
  {
   "cell_type": "code",
   "execution_count": 4,
   "metadata": {},
   "outputs": [
    {
     "name": "stdout",
     "output_type": "stream",
     "text": [
      "Python\n",
      "        is\n",
      "     everywhere\n"
     ]
    }
   ],
   "source": [
    "# print the each word in different line of string python is everywhere.\n",
    "a = ('''Python\n",
    "        is\n",
    "     everywhere''')\n",
    "print(a)"
   ]
  },
  {
   "cell_type": "code",
   "execution_count": 11,
   "metadata": {},
   "outputs": [
    {
     "name": "stdout",
     "output_type": "stream",
     "text": [
      "dlroW olleH\n"
     ]
    }
   ],
   "source": [
    "# print the string Hello world! in reversed.\n",
    "\n",
    "txt = \"Hello World\"[::-1]\n",
    "print(txt)\n",
    "\n",
    "\n"
   ]
  },
  {
   "cell_type": "code",
   "execution_count": 19,
   "metadata": {},
   "outputs": [
    {
     "name": "stdout",
     "output_type": "stream",
     "text": [
      "HOW ARE YOU?\n"
     ]
    }
   ],
   "source": [
    "# convert the string how are you?in uppercase.\n",
    "string = \"how are you?\"\n",
    "print(string.upper())\n"
   ]
  },
  {
   "cell_type": "code",
   "execution_count": 20,
   "metadata": {},
   "outputs": [
    {
     "name": "stdout",
     "output_type": "stream",
     "text": [
      "how is it going?\n"
     ]
    }
   ],
   "source": [
    "# convert string How Is It Going? in lowercase\n",
    "\n",
    "string = \"How Is It Going?\"\n",
    "print(string.lower())"
   ]
  },
  {
   "cell_type": "code",
   "execution_count": 30,
   "metadata": {},
   "outputs": [
    {
     "name": "stdout",
     "output_type": "stream",
     "text": [
      "  Python is easy\n"
     ]
    }
   ],
   "source": [
    "#join the following list by spaces( )and print the result.\n",
    "\n",
    "#wordslist =[ 'Python, 'is','easy',]\n",
    "my_list = ['Python', 'is', 'easy']\n",
    "my_string = \" \"\n",
    "for a in my_list:\n",
    "    my_string = my_string + ' ' + a\n",
    "print(my_string)\n"
   ]
  },
  {
   "cell_type": "code",
   "execution_count": 32,
   "metadata": {},
   "outputs": [
    {
     "name": "stdout",
     "output_type": "stream",
     "text": [
      "\n",
      "text\n",
      "text\n",
      "text\n",
      "\n"
     ]
    }
   ],
   "source": [
    "# print a multiline string using a single print\n",
    "\n",
    "a = \"\"\"\n",
    "text\n",
    "text\n",
    "text\n",
    "\"\"\"\n",
    "print(a)"
   ]
  },
  {
   "cell_type": "code",
   "execution_count": 33,
   "metadata": {},
   "outputs": [
    {
     "name": "stdout",
     "output_type": "stream",
     "text": [
      "Hello, World!\n"
     ]
    },
    {
     "data": {
      "text/plain": [
       "'Hello, World!\\n'"
      ]
     },
     "execution_count": 33,
     "metadata": {},
     "output_type": "execute_result"
    }
   ],
   "source": [
    "# print the string to move to newline '\\n' is used.(results should look exactly like the provided string)\n",
    "print(\"Hello, World!\")\n",
    "\"Hello, World!\\n\""
   ]
  },
  {
   "cell_type": "code",
   "execution_count": null,
   "metadata": {},
   "outputs": [],
   "source": [
    "# print a variable with some text using a single print function,output should look liked following.the variable is \n"
   ]
  }
 ],
 "metadata": {
  "interpreter": {
   "hash": "e81d28461f6f899f1a26af0bc7a84c40cadece640d2bc8d7eeaa30473e07ec92"
  },
  "kernelspec": {
   "display_name": "Python 3.9.7 64-bit",
   "language": "python",
   "name": "python3"
  },
  "language_info": {
   "codemirror_mode": {
    "name": "ipython",
    "version": 3
   },
   "file_extension": ".py",
   "mimetype": "text/x-python",
   "name": "python",
   "nbconvert_exporter": "python",
   "pygments_lexer": "ipython3",
   "version": "3.9.7"
  },
  "orig_nbformat": 4
 },
 "nbformat": 4,
 "nbformat_minor": 2
}
