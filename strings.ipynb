{
 "cells": [
  {
   "cell_type": "code",
   "execution_count": 1,
   "metadata": {},
   "outputs": [
    {
     "name": "stdout",
     "output_type": "stream",
     "text": [
      "Hello\n",
      "Hello\n",
      "Hello\n",
      "Hello, welcome to\n",
      "            the world of Python\n"
     ]
    }
   ],
   "source": [
    "# defining strings in Python\n",
    "# all of the following are equivalent\n",
    "my_string = 'Hello'\n",
    "print(my_string)\n",
    "\n",
    "my_string = \"Hello\"\n",
    "print(my_string)\n",
    "\n",
    "my_string = '''Hello'''\n",
    "print(my_string)\n",
    "\n",
    "# triple quotes string can multiple lines\n",
    "my_string = \"\"\"Hello, welcome to\n",
    "            the world of Python\"\"\"\n",
    "print(my_string)            "
   ]
  },
  {
   "cell_type": "code",
   "execution_count": 3,
   "metadata": {},
   "outputs": [
    {
     "name": "stdout",
     "output_type": "stream",
     "text": [
      "str = digipodium\n",
      "str[0]= d\n",
      "str[2] = g\n",
      "str[3] = i\n"
     ]
    }
   ],
   "source": [
    "#Accessing string characters in Python\n",
    "str = 'digipodium'\n",
    "print('str =',str)\n",
    "\n",
    "#first character\n",
    "print('str[0]=',str[0])\n",
    "\n",
    "#second character\n",
    "print('str[2] =',str[2])\n",
    "\n",
    "#third character\n",
    "print('str[3] =',str[3])"
   ]
  },
  {
   "cell_type": "code",
   "execution_count": 10,
   "metadata": {},
   "outputs": [
    {
     "name": "stdout",
     "output_type": "stream",
     "text": [
      "podium\n"
     ]
    }
   ],
   "source": [
    "# getting a slice\n",
    "s = 'digipodium'\n",
    "slice1 = s[4:10]\n",
    "print(slice1)"
   ]
  },
  {
   "cell_type": "code",
   "execution_count": 11,
   "metadata": {},
   "outputs": [
    {
     "data": {
      "text/plain": [
       "'DEVELO'"
      ]
     },
     "execution_count": 11,
     "metadata": {},
     "output_type": "execute_result"
    }
   ],
   "source": [
    "x = 'DEVELOPER'\n",
    "x[:6]"
   ]
  },
  {
   "cell_type": "code",
   "execution_count": 12,
   "metadata": {},
   "outputs": [
    {
     "data": {
      "text/plain": [
       "'LOPER'"
      ]
     },
     "execution_count": 12,
     "metadata": {},
     "output_type": "execute_result"
    }
   ],
   "source": [
    "x[4:]"
   ]
  },
  {
   "cell_type": "code",
   "execution_count": 2,
   "metadata": {},
   "outputs": [
    {
     "name": "stdout",
     "output_type": "stream",
     "text": [
      "ʦ\n",
      "ऽ\n",
      "き\n"
     ]
    }
   ],
   "source": [
    "x = chr(678)\n",
    "print(x)\n",
    "x = chr(2365)\n",
    "print(x)\n",
    "x = chr(12365)\n",
    "print(x)"
   ]
  },
  {
   "cell_type": "code",
   "execution_count": 3,
   "metadata": {},
   "outputs": [
    {
     "data": {
      "text/plain": [
       "'YoYoYoYoYo'"
      ]
     },
     "execution_count": 3,
     "metadata": {},
     "output_type": "execute_result"
    }
   ],
   "source": [
    "'Yo' * 5"
   ]
  },
  {
   "cell_type": "code",
   "execution_count": null,
   "metadata": {},
   "outputs": [],
   "source": [
    "print('-'*11)\n",
    "print('Hello World')\n",
    "print('-')"
   ]
  },
  {
   "cell_type": "code",
   "execution_count": 4,
   "metadata": {},
   "outputs": [],
   "source": [
    "w = \"Worldsingers\""
   ]
  },
  {
   "cell_type": "code",
   "execution_count": 5,
   "metadata": {},
   "outputs": [
    {
     "data": {
      "text/plain": [
       "['W', 'o', 'r', 'l', 'd', 's', 'i', 'n', 'g', 'e', 'r', 's']"
      ]
     },
     "execution_count": 5,
     "metadata": {},
     "output_type": "execute_result"
    }
   ],
   "source": [
    "list(w)"
   ]
  },
  {
   "cell_type": "code",
   "execution_count": 6,
   "metadata": {},
   "outputs": [
    {
     "data": {
      "text/plain": [
       "'World'"
      ]
     },
     "execution_count": 6,
     "metadata": {},
     "output_type": "execute_result"
    }
   ],
   "source": [
    "# slicing\n",
    "w[:5]"
   ]
  },
  {
   "cell_type": "code",
   "execution_count": 8,
   "metadata": {},
   "outputs": [
    {
     "data": {
      "text/plain": [
       "'olsnes'"
      ]
     },
     "execution_count": 8,
     "metadata": {},
     "output_type": "execute_result"
    }
   ],
   "source": [
    "w[1::2]# odd indexes"
   ]
  },
  {
   "cell_type": "code",
   "execution_count": 9,
   "metadata": {},
   "outputs": [
    {
     "data": {
      "text/plain": [
       "'Wrdigr'"
      ]
     },
     "execution_count": 9,
     "metadata": {},
     "output_type": "execute_result"
    }
   ],
   "source": [
    "w[::2]# even indexes"
   ]
  },
  {
   "cell_type": "code",
   "execution_count": 11,
   "metadata": {},
   "outputs": [
    {
     "data": {
      "text/plain": [
       "'sregnisdlroW'"
      ]
     },
     "execution_count": 11,
     "metadata": {},
     "output_type": "execute_result"
    }
   ],
   "source": [
    "w[::-1]# reverse string"
   ]
  },
  {
   "cell_type": "code",
   "execution_count": 13,
   "metadata": {},
   "outputs": [
    {
     "name": "stdout",
     "output_type": "stream",
     "text": [
      "             L \n",
      "           L L \n",
      "         L L L \n",
      "       L L L L \n",
      "     L L L L L \n"
     ]
    }
   ],
   "source": [
    "for i in range(1,6):\n",
    "    print((i * 'L ').rjust(15))"
   ]
  },
  {
   "cell_type": "code",
   "execution_count": 14,
   "metadata": {},
   "outputs": [],
   "source": [
    "for i in range(1,-6,):\n",
    "    print((i * '1,-6'))"
   ]
  },
  {
   "cell_type": "code",
   "execution_count": 15,
   "metadata": {},
   "outputs": [
    {
     "data": {
      "text/plain": [
       "'                                                                            Worldsingers'"
      ]
     },
     "execution_count": 15,
     "metadata": {},
     "output_type": "execute_result"
    }
   ],
   "source": [
    "w.rjust(88)\n"
   ]
  },
  {
   "cell_type": "code",
   "execution_count": 16,
   "metadata": {},
   "outputs": [
    {
     "name": "stdout",
     "output_type": "stream",
     "text": [
      "             o \n",
      "           o o \n",
      "         o o o \n",
      "       o o o o \n",
      "     o o o o o \n"
     ]
    }
   ],
   "source": [
    "for i in range(1,6):\n",
    "    print(('o '* i).rjust(15))"
   ]
  },
  {
   "cell_type": "code",
   "execution_count": 18,
   "metadata": {},
   "outputs": [
    {
     "name": "stdout",
     "output_type": "stream",
     "text": [
      "               T              \n",
      "             T T T            \n",
      "           T T T T T          \n",
      "         T T T T T T T        \n",
      "       T T T T T T T T T      \n",
      "     T T T T T T T T T T T    \n",
      "   T T T T T T T T T T T T T  \n"
     ]
    }
   ],
   "source": [
    "for i in range(1,15,2):\n",
    "    print((i * ' T').center(30))"
   ]
  },
  {
   "cell_type": "code",
   "execution_count": 38,
   "metadata": {},
   "outputs": [
    {
     "name": "stdout",
     "output_type": "stream",
     "text": [
      "XXXXXXXXXXXXXXXXXXX 0 XXXXXXXXXXXXXXXXXXXX\n",
      "XXXXXXXXXXXXXXXXX *  *  * XXXXXXXXXXXXXXXXX\n",
      "XXXXXXXXXXXXX 0  0  0  0  0 XXXXXXXXXXXXXX\n",
      "XXXXXXXXXXX *  *  *  *  *  *  * XXXXXXXXXXX\n",
      "XXXXXXX 0  0  0  0  0  0  0  0  0 XXXXXXXX\n",
      "XXXXX *  *  *  *  *  *  *  *  *  *  * XXXXX\n",
      "X 0  0  0  0  0  0  0  0  0  0  0  0  0 XX\n"
     ]
    }
   ],
   "source": [
    "for i,v in enumerate(range(1,15,2)):\n",
    "    if i % 2 == 0:\n",
    "        print((v * ' 0 ').center(42,'X'))\n",
    "    else:\n",
    "        print((v * ' * ').center(43,'X'))"
   ]
  },
  {
   "cell_type": "code",
   "execution_count": 26,
   "metadata": {},
   "outputs": [
    {
     "name": "stdout",
     "output_type": "stream",
     "text": [
      "\u001b[1;31mSignature:\u001b[0m \u001b[0mw\u001b[0m\u001b[1;33m.\u001b[0m\u001b[0mcenter\u001b[0m\u001b[1;33m(\u001b[0m\u001b[0mwidth\u001b[0m\u001b[1;33m,\u001b[0m \u001b[0mfillchar\u001b[0m\u001b[1;33m=\u001b[0m\u001b[1;34m' '\u001b[0m\u001b[1;33m,\u001b[0m \u001b[1;33m/\u001b[0m\u001b[1;33m)\u001b[0m\u001b[1;33m\u001b[0m\u001b[1;33m\u001b[0m\u001b[0m\n",
      "\u001b[1;31mDocstring:\u001b[0m\n",
      "Return a centered string of length width.\n",
      "\n",
      "Padding is done using the specified fill character (default is a space).\n",
      "\u001b[1;31mType:\u001b[0m      builtin_function_or_method\n"
     ]
    }
   ],
   "source": [
    "w.center?"
   ]
  },
  {
   "cell_type": "code",
   "execution_count": 35,
   "metadata": {},
   "outputs": [],
   "source": [
    "story = '''The charity will also be ramping up its distribution programme.\n",
    "With generous support from donors, we plan to donate thousands\n",
    " of copies to Afghans who have recently fled\n",
    "  Afghanistan as wel as members of other refugee \n",
    "  diasporas making new lives in the West.\n",
    "   We will also continue to donate our books \n",
    "   to children in deprived societies – just a\n",
    "   s we did recently though Access Books in \n",
    "   he USA, providing 1,000 copies to the children \n",
    "   of Compton, Los Angeles. In this way, we hope to\n",
    "    help inspire a love of books and reading, but also to help children living in modern, complex urban societies deal with the many challenging issues they face.'''\n",
    "\n",
    "\n"
   ]
  },
  {
   "cell_type": "code",
   "execution_count": 7,
   "metadata": {},
   "outputs": [
    {
     "data": {
      "text/plain": [
       "666"
      ]
     },
     "execution_count": 7,
     "metadata": {},
     "output_type": "execute_result"
    }
   ],
   "source": [
    "len(story)"
   ]
  },
  {
   "cell_type": "code",
   "execution_count": 8,
   "metadata": {},
   "outputs": [
    {
     "name": "stdout",
     "output_type": "stream",
     "text": [
      "112\n"
     ]
    }
   ],
   "source": [
    "\n",
    "print(len(words))"
   ]
  },
  {
   "cell_type": "code",
   "execution_count": 10,
   "metadata": {},
   "outputs": [
    {
     "name": "stdout",
     "output_type": "stream",
     "text": [
      "['The', 'charity', 'will', 'also', 'be', 'ramping', 'up', 'its', 'distribution', 'programme.', 'With', 'generous', 'support', 'from', 'donors,', 'we', 'plan', 'to', 'donate', 'thousands', 'of', 'copies', 'to', 'Afghans', 'who', 'have', 'recently', 'fled', 'Afghanistan', 'as', 'wel', 'as', 'members', 'of', 'other', 'refugee', 'diasporas', 'making', 'new', 'lives', 'in', 'the', 'West.', 'We', 'will', 'also', 'continue', 'to', 'donate', 'our', 'books', 'to', 'children', 'in', 'deprived', 'societies', '–', 'just', 'a', 's', 'we', 'did', 'recently', 'though', 'Access', 'Books', 'in', 'he', 'USA,', 'providing', '1,000', 'copies', 'to', 'the', 'children', 'of', 'Compton,', 'Los', 'Angeles.', 'In', 'this', 'way,', 'we', 'hope', 'to', 'help', 'inspire', 'a', 'love', 'of', 'books', 'and', 'reading,', 'but', 'also', 'to', 'help', 'children', 'living', 'in', 'modern,', 'complex', 'urban', 'societies', 'deal', 'with', 'the', 'many', 'challenging', 'issues', 'they', 'face.']\n"
     ]
    }
   ],
   "source": [
    "words = story.split()\n",
    "print(words)"
   ]
  },
  {
   "cell_type": "code",
   "execution_count": 12,
   "metadata": {},
   "outputs": [
    {
     "data": {
      "text/plain": [
       "['The charity will also be ramping up its distribution programme.\\nWith generous support from donors, we plan to donate thousands\\n ',\n",
       " ' copies to Afghans who have recently fled\\n  Afghanistan as wel as members ',\n",
       " ' other refugee \\n  diasporas making new lives in the West.\\n   We will also continue to donate our books \\n   to children in deprived societies – just a\\n   s we did recently though Access Books in \\n   he USA, providing 1,000 copies to the children \\n   ',\n",
       " ' Compton, Los Angeles. In this way, we hope to\\n    help inspire a love ',\n",
       " ' books and reading, but also to help children living in modern, complex urban societies deal with the many challenging issues they face.']"
      ]
     },
     "execution_count": 12,
     "metadata": {},
     "output_type": "execute_result"
    }
   ],
   "source": [
    "story.split('of')"
   ]
  },
  {
   "cell_type": "code",
   "execution_count": 13,
   "metadata": {},
   "outputs": [
    {
     "data": {
      "text/plain": [
       "['The charity will also be ramping up its distribution programme.\\nWith generous support from donors, we plan to donate thousands\\n of copies to Afghans who have recently fled\\n  Afghanistan as wel as members of other refugee \\n  diasporas making new lives in the West.\\n   We will also continue to donate our books \\n   to children in deprived societies – just a\\n   s we did recently though Access Books in \\n   he USA, providing 1,000 copies to the children \\n   of Compton, Los Angeles. In this way, we hope to\\n    help inspire a love of books and reading, but also to help children living in modern, complex urban societies deal with the many challenging issues they face.']"
      ]
     },
     "execution_count": 13,
     "metadata": {},
     "output_type": "execute_result"
    }
   ],
   "source": [
    "story.split('?',12)"
   ]
  },
  {
   "cell_type": "code",
   "execution_count": 15,
   "metadata": {},
   "outputs": [
    {
     "name": "stdout",
     "output_type": "stream",
     "text": [
      "\u001b[1;31mSignature:\u001b[0m \u001b[0mstory\u001b[0m\u001b[1;33m.\u001b[0m\u001b[0msplit\u001b[0m\u001b[1;33m(\u001b[0m\u001b[0msep\u001b[0m\u001b[1;33m=\u001b[0m\u001b[1;32mNone\u001b[0m\u001b[1;33m,\u001b[0m \u001b[0mmaxsplit\u001b[0m\u001b[1;33m=\u001b[0m\u001b[1;33m-\u001b[0m\u001b[1;36m1\u001b[0m\u001b[1;33m)\u001b[0m\u001b[1;33m\u001b[0m\u001b[1;33m\u001b[0m\u001b[0m\n",
      "\u001b[1;31mDocstring:\u001b[0m\n",
      "Return a list of the words in the string, using sep as the delimiter string.\n",
      "\n",
      "sep\n",
      "  The delimiter according which to split the string.\n",
      "  None (the default value) means split according to any whitespace,\n",
      "  and discard empty strings from the result.\n",
      "maxsplit\n",
      "  Maximum number of splits to do.\n",
      "  -1 (the default value) means no limit.\n",
      "\u001b[1;31mType:\u001b[0m      builtin_function_or_method\n"
     ]
    }
   ],
   "source": [
    "story.split?"
   ]
  },
  {
   "cell_type": "code",
   "execution_count": 16,
   "metadata": {},
   "outputs": [],
   "source": [
    "wordlist = ['Choclate', 'is', 'good', 'for', 'your' ,'health']"
   ]
  },
  {
   "cell_type": "code",
   "execution_count": 18,
   "metadata": {},
   "outputs": [
    {
     "data": {
      "text/plain": [
       "'Choclate_is_good_for_your_health'"
      ]
     },
     "execution_count": 18,
     "metadata": {},
     "output_type": "execute_result"
    }
   ],
   "source": [
    "'_'.join(wordlist)"
   ]
  },
  {
   "cell_type": "code",
   "execution_count": 20,
   "metadata": {},
   "outputs": [
    {
     "data": {
      "text/plain": [
       "'The charity will also be ramping up its dintribution programme.\\nWith generous support from donors, we plan to donate thousands\\n of copies to Afghans who have recently fled\\n  Afghanintan as wel as members of other refugee \\n  diasporas making new lives in the West.\\n   We will also continue to donate our books \\n   to children in deprived societies – just a\\n   s we did recently though Access Books in \\n   he USA, providing 1,000 copies to the children \\n   of Compton, Los Angeles. In thin way, we hope to\\n    help inspire a love of books and reading, but also to help children living in modern, complex urban societies deal with the many challenging insues they face.'"
      ]
     },
     "execution_count": 20,
     "metadata": {},
     "output_type": "execute_result"
    }
   ],
   "source": [
    "story.replace('is','in')"
   ]
  },
  {
   "cell_type": "code",
   "execution_count": 2,
   "metadata": {},
   "outputs": [
    {
     "data": {
      "text/plain": [
       "'The charity will also be ramping up its distribution programme!!\\nWith generous support from donors, we plan to donate thousands\\n of copies to Afghans who have recently fled\\n  Afghanistan as wel as members of other refugee \\n  diasporas making new lives in the West!!\\n   We will also continue to donate our books \\n   to children in deprived societies – just a\\n   s we did recently though Access Books in \\n   he USA, providing 1,000 copies to the children \\n   of Compton, Los Angeles!! In this way, we hope to\\n    help inspire a love of books and reading, but also to help children living in modern, complex urban societies deal with the many challenging issues they face.'"
      ]
     },
     "execution_count": 2,
     "metadata": {},
     "output_type": "execute_result"
    }
   ],
   "source": [
    "story.replace('.','!!',3)"
   ]
  },
  {
   "cell_type": "code",
   "execution_count": 4,
   "metadata": {},
   "outputs": [
    {
     "data": {
      "text/plain": [
       "'The charity will also be ramping up its distribution programme.\\nWith generous support from donors, we plan to donate thousands\\n of copies to Afghans who have recently fled\\n  Afghanistan as wel as members of other refugee \\n  diasporas making new lives in the West.\\n   We will also continue to donate our books \\n   to children in deprived societies – just a\\n   s we did recently though Access Books in \\n   he USA, providing 1,000 copies to the children \\n   of Compton, Los Angeles. In this way, we hope to\\n    help inspire a love of books and reading, but also to help children living in modern, complex urban societies deal with the many challenging issues they face.'"
      ]
     },
     "execution_count": 4,
     "metadata": {},
     "output_type": "execute_result"
    }
   ],
   "source": [
    "story"
   ]
  },
  {
   "cell_type": "code",
   "execution_count": 5,
   "metadata": {},
   "outputs": [
    {
     "data": {
      "text/plain": [
       "'THE CHARITY WILL ALSO BE RAMPING UP ITS DISTRIBUTION PROGRAMME.\\nWITH GENEROUS SUPPORT FROM DONORS, WE PLAN TO DONATE THOUSANDS\\n OF COPIES TO AFGHANS WHO HAVE RECENTLY FLED\\n  AFGHANISTAN AS WEL AS MEMBERS OF OTHER REFUGEE \\n  DIASPORAS MAKING NEW LIVES IN THE WEST.\\n   WE WILL ALSO CONTINUE TO DONATE OUR BOOKS \\n   TO CHILDREN IN DEPRIVED SOCIETIES – JUST A\\n   S WE DID RECENTLY THOUGH ACCESS BOOKS IN \\n   HE USA, PROVIDING 1,000 COPIES TO THE CHILDREN \\n   OF COMPTON, LOS ANGELES. IN THIS WAY, WE HOPE TO\\n    HELP INSPIRE A LOVE OF BOOKS AND READING, BUT ALSO TO HELP CHILDREN LIVING IN MODERN, COMPLEX URBAN SOCIETIES DEAL WITH THE MANY CHALLENGING ISSUES THEY FACE.'"
      ]
     },
     "execution_count": 5,
     "metadata": {},
     "output_type": "execute_result"
    }
   ],
   "source": [
    "story.upper()"
   ]
  },
  {
   "cell_type": "code",
   "execution_count": 6,
   "metadata": {},
   "outputs": [
    {
     "data": {
      "text/plain": [
       "'the charity will also be ramping up its distribution programme.\\nwith generous support from donors, we plan to donate thousands\\n of copies to afghans who have recently fled\\n  afghanistan as wel as members of other refugee \\n  diasporas making new lives in the west.\\n   we will also continue to donate our books \\n   to children in deprived societies – just a\\n   s we did recently though access books in \\n   he usa, providing 1,000 copies to the children \\n   of compton, los angeles. in this way, we hope to\\n    help inspire a love of books and reading, but also to help children living in modern, complex urban societies deal with the many challenging issues they face.'"
      ]
     },
     "execution_count": 6,
     "metadata": {},
     "output_type": "execute_result"
    }
   ],
   "source": [
    "story.lower()"
   ]
  },
  {
   "cell_type": "code",
   "execution_count": 10,
   "metadata": {},
   "outputs": [
    {
     "data": {
      "text/plain": [
       "'The charity will also be ramping up its distribution programme.\\nwith generous support from donors, we plan to donate thousands\\n of copies to afghans who have recently fled\\n  afghanistan as wel as members of other refugee \\n  diasporas making new lives in the west.\\n   we will also continue to donate our books \\n   to children in deprived societies – just a\\n   s we did recently though access books in \\n   he usa, providing 1,000 copies to the children \\n   of compton, los angeles. in this way, we hope to\\n    help inspire a love of books and reading, but also to help children living in modern, complex urban societies deal with the many challenging issues they face.'"
      ]
     },
     "execution_count": 10,
     "metadata": {},
     "output_type": "execute_result"
    }
   ],
   "source": [
    "story.strip().capitalize()"
   ]
  },
  {
   "cell_type": "code",
   "execution_count": 11,
   "metadata": {},
   "outputs": [
    {
     "data": {
      "text/plain": [
       "'tHE CHARITY WILL ALSO BE RAMPING UP ITS DISTRIBUTION PROGRAMME.\\nwITH GENEROUS SUPPORT FROM DONORS, WE PLAN TO DONATE THOUSANDS\\n OF COPIES TO aFGHANS WHO HAVE RECENTLY FLED\\n  aFGHANISTAN AS WEL AS MEMBERS OF OTHER REFUGEE \\n  DIASPORAS MAKING NEW LIVES IN THE wEST.\\n   wE WILL ALSO CONTINUE TO DONATE OUR BOOKS \\n   TO CHILDREN IN DEPRIVED SOCIETIES – JUST A\\n   S WE DID RECENTLY THOUGH aCCESS bOOKS IN \\n   HE usa, PROVIDING 1,000 COPIES TO THE CHILDREN \\n   OF cOMPTON, lOS aNGELES. iN THIS WAY, WE HOPE TO\\n    HELP INSPIRE A LOVE OF BOOKS AND READING, BUT ALSO TO HELP CHILDREN LIVING IN MODERN, COMPLEX URBAN SOCIETIES DEAL WITH THE MANY CHALLENGING ISSUES THEY FACE.'"
      ]
     },
     "execution_count": 11,
     "metadata": {},
     "output_type": "execute_result"
    }
   ],
   "source": [
    "story.swapcase()"
   ]
  },
  {
   "cell_type": "code",
   "execution_count": 13,
   "metadata": {},
   "outputs": [
    {
     "data": {
      "text/plain": [
       "'the charity will also be ramping up its distribution programme.\\nwith generous support from donors, we plan to donate thousands\\n of copies to afghans who have recently fled\\n  afghanistan as wel as members of other refugee \\n  diasporas making new lives in the west.\\n   we will also continue to donate our books \\n   to children in deprived societies – just a\\n   s we did recently though access books in \\n   he usa, providing 1,000 copies to the children \\n   of compton, los angeles. in this way, we hope to\\n    help inspire a love of books and reading, but also to help children living in modern, complex urban societies deal with the many challenging issues they face.'"
      ]
     },
     "execution_count": 13,
     "metadata": {},
     "output_type": "execute_result"
    }
   ],
   "source": [
    "story.casefold()"
   ]
  },
  {
   "cell_type": "code",
   "execution_count": 14,
   "metadata": {},
   "outputs": [
    {
     "data": {
      "text/plain": [
       "False"
      ]
     },
     "execution_count": 14,
     "metadata": {},
     "output_type": "execute_result"
    }
   ],
   "source": [
    "msg = input('enter anything:')\n",
    "msg.isalpha()"
   ]
  },
  {
   "cell_type": "code",
   "execution_count": 17,
   "metadata": {},
   "outputs": [
    {
     "name": "stdout",
     "output_type": "stream",
     "text": [
      "valid number\n"
     ]
    }
   ],
   "source": [
    "msg = input('enter a number:')\n",
    "if msg.isnumeric():\n",
    "    print('valid number')\n",
    "else:\n",
    "    print('invalid number')"
   ]
  },
  {
   "cell_type": "code",
   "execution_count": 11,
   "metadata": {},
   "outputs": [
    {
     "data": {
      "text/plain": [
       "True"
      ]
     },
     "execution_count": 11,
     "metadata": {},
     "output_type": "execute_result"
    }
   ],
   "source": [
    "msg = input('enter a anything:')\n",
    "msg.isalnum()\n"
   ]
  },
  {
   "cell_type": "code",
   "execution_count": 9,
   "metadata": {},
   "outputs": [
    {
     "data": {
      "text/plain": [
       "4"
      ]
     },
     "execution_count": 9,
     "metadata": {},
     "output_type": "execute_result"
    }
   ],
   "source": [
    "story.count('of')"
   ]
  },
  {
   "cell_type": "code",
   "execution_count": 10,
   "metadata": {},
   "outputs": [
    {
     "name": "stdout",
     "output_type": "stream",
     "text": [
      "29\n"
     ]
    }
   ],
   "source": [
    "occurance = story.count('a')\n",
    "print(occurance)"
   ]
  },
  {
   "cell_type": "code",
   "execution_count": 8,
   "metadata": {},
   "outputs": [
    {
     "name": "stdout",
     "output_type": "stream",
     "text": [
      "a 29\n",
      "b 7\n",
      "c 16\n",
      "d 19\n",
      "e 59\n",
      "f 10\n",
      "g 14\n",
      "h 25\n",
      "i 40\n",
      "j 1\n",
      "k 4\n",
      "l 25\n",
      "m 11\n",
      "n 37\n",
      "o 48\n",
      "p 17\n",
      "q 0\n",
      "r 25\n",
      "s 39\n",
      "t 34\n",
      "u 13\n",
      "v 6\n",
      "w 10\n",
      "x 1\n",
      "y 6\n",
      "z 0\n"
     ]
    }
   ],
   "source": [
    "for char in \"abcdefghijklmnopqrstuvwxyz\":\n",
    "    print(char,story.count(char))"
   ]
  },
  {
   "cell_type": "code",
   "execution_count": 5,
   "metadata": {},
   "outputs": [
    {
     "name": "stdout",
     "output_type": "stream",
     "text": [
      "3\n",
      "gfg 3\n"
     ]
    }
   ],
   "source": [
    "name = input('enter your name:')\n",
    "print(len(name))\n",
    "# cleaning name\n",
    "name = name.strip()\n",
    "print(name,len(name))\n"
   ]
  },
  {
   "cell_type": "code",
   "execution_count": 18,
   "metadata": {},
   "outputs": [
    {
     "name": "stdout",
     "output_type": "stream",
     "text": [
      "Welcome Milady, Mrs. Jones\n",
      "Welcome gentelmen, Mr. Viliams\n",
      "Welcome gentelmen, Mr. Brown\n"
     ]
    }
   ],
   "source": [
    "guestlist = ['Mr . Smith', 'Mrs. Jones', 'Mr. Viliams' ,'Mr. Brown']\n",
    "for name in guestlist:\n",
    "    if name.startswith('Mr.'):\n",
    "        print(f'Welcome gentelmen, {name}')\n",
    "    if name.startswith('Mrs.'):  \n",
    "        print(f'Welcome Milady, {name}')  "
   ]
  },
  {
   "cell_type": "code",
   "execution_count": 20,
   "metadata": {},
   "outputs": [
    {
     "name": "stdout",
     "output_type": "stream",
     "text": [
      "Song.mp3 is Audio file\n",
      "Song.mp4 is Video file\n",
      "doc.txt is Text file\n",
      "doc2.txt is Text file\n",
      "doc3.txt is Text file\n",
      "Video.mp4 is Video file\n"
     ]
    }
   ],
   "source": [
    "files = ['Song.mp3', 'Song.mp4', 'doc.txt', 'doc2.txt', 'doc3.txt', 'Video.mp4']\n",
    "# display all file types\n",
    "for file in files:\n",
    "    if file.endswith('.mp3'):\n",
    "        print(f'{file} is Audio file')\n",
    "    elif file.endswith('.mp4'):\n",
    "        print(f'{file} is Video file')\n",
    "    elif file.endswith('.txt'):\n",
    "        print(f'{file} is Text file') \n"
   ]
  },
  {
   "cell_type": "code",
   "execution_count": 28,
   "metadata": {},
   "outputs": [
    {
     "name": "stdout",
     "output_type": "stream",
     "text": [
      "this is  messge, nd it is  long messge\n",
      "this is  mssg, nd it is  long mssg\n",
      "ths s  mssg, nd t s  long mssg\n",
      "ths s  mssg, nd t s  lng mssg\n",
      "ths s  mssg, nd t s  lng mssg\n"
     ]
    }
   ],
   "source": [
    "vowels = 'aeiou'\n",
    "message = 'this is a message, and it is a long message'\n",
    "\n",
    "for vowel in vowels:\n",
    "    message = message.replace(vowel,'')\n",
    "    print(message)"
   ]
  },
  {
   "cell_type": "code",
   "execution_count": 37,
   "metadata": {},
   "outputs": [
    {
     "name": "stdout",
     "output_type": "stream",
     "text": [
      "a occurs 34 times\n",
      "i occurs 41 times\n",
      "e occurs 59 times\n",
      "o occurs 48 times\n",
      "u occurs 14 times\n"
     ]
    }
   ],
   "source": [
    "# count all vowels from a string entered by user\n",
    "for vowel in vowels:\n",
    "    print(f\"{vowel} occurs {story.lower().count(vowel)} times\")"
   ]
  },
  {
   "cell_type": "markdown",
   "metadata": {},
   "source": [
    "# list \n",
    "-ordered,indexed\n",
    "-hetrogenous\n",
    "- dynamic mutable\n",
    "-can hold duplicate values\n",
    "-'list()' is used to create a list from other iterables\n",
    "- square brackets '[]' are used to create a list"
   ]
  },
  {
   "cell_type": "code",
   "execution_count": 1,
   "metadata": {},
   "outputs": [],
   "source": [
    "x = ['Alex', 'Bob', 'Charlie' 'David']"
   ]
  },
  {
   "cell_type": "code",
   "execution_count": 7,
   "metadata": {},
   "outputs": [
    {
     "name": "stdout",
     "output_type": "stream",
     "text": [
      "['C', 'h', 'r', 'i', 's', 't', 'o', 'p', 'h', 'e', 'r']\n"
     ]
    }
   ],
   "source": [
    "word = 'Christopher'\n",
    "charList = list(word)\n",
    "print(charList)"
   ]
  },
  {
   "cell_type": "code",
   "execution_count": 8,
   "metadata": {},
   "outputs": [
    {
     "name": "stdout",
     "output_type": "stream",
     "text": [
      "[0, 1, 2, 3, 4, 5, 6, 7, 8, 9, 10, 11, 12, 13, 14, 15, 16, 17, 18, 19, 20, 21, 22, 23, 24, 25, 26, 27, 28, 29, 30, 31, 32, 33, 34, 35, 36, 37, 38, 39, 40, 41, 42, 43, 44, 45, 46, 47, 48, 49, 50, 51, 52, 53, 54, 55, 56, 57, 58, 59, 60, 61, 62, 63, 64, 65, 66, 67, 68, 69, 70, 71, 72, 73, 74, 75, 76, 77, 78, 79, 80, 81, 82, 83, 84, 85, 86, 87, 88, 89, 90, 91, 92, 93, 94, 95, 96, 97, 98, 99]\n"
     ]
    }
   ],
   "source": [
    "list100 = list(range(100))\n",
    "print(list100)"
   ]
  },
  {
   "cell_type": "code",
   "execution_count": 5,
   "metadata": {},
   "outputs": [
    {
     "data": {
      "text/plain": [
       "'r'"
      ]
     },
     "execution_count": 5,
     "metadata": {},
     "output_type": "execute_result"
    }
   ],
   "source": [
    "charList[-1] # last element"
   ]
  },
  {
   "cell_type": "code",
   "execution_count": 9,
   "metadata": {},
   "outputs": [
    {
     "data": {
      "text/plain": [
       "'C'"
      ]
     },
     "execution_count": 9,
     "metadata": {},
     "output_type": "execute_result"
    }
   ],
   "source": [
    "charList[0]"
   ]
  },
  {
   "cell_type": "code",
   "execution_count": 10,
   "metadata": {},
   "outputs": [
    {
     "data": {
      "text/plain": [
       "'t'"
      ]
     },
     "execution_count": 10,
     "metadata": {},
     "output_type": "execute_result"
    }
   ],
   "source": [
    "charList[-6]"
   ]
  },
  {
   "cell_type": "code",
   "execution_count": 11,
   "metadata": {},
   "outputs": [
    {
     "data": {
      "text/plain": [
       "'e'"
      ]
     },
     "execution_count": 11,
     "metadata": {},
     "output_type": "execute_result"
    }
   ],
   "source": [
    "charList[-2] # second last element"
   ]
  },
  {
   "cell_type": "code",
   "execution_count": 17,
   "metadata": {},
   "outputs": [],
   "source": [
    "soils=['Aluvial', 'Clay', 'Silt' , 'Sand' , 'Gravel' , 'Loam' ,]"
   ]
  },
  {
   "cell_type": "code",
   "execution_count": 18,
   "metadata": {},
   "outputs": [
    {
     "name": "stdout",
     "output_type": "stream",
     "text": [
      "['Aluvial', 'Clay', 'Silt', 'Sand', 'Gravel']\n"
     ]
    }
   ],
   "source": [
    "slice = soils[0:5]\n",
    "print(slice)"
   ]
  },
  {
   "cell_type": "code",
   "execution_count": 19,
   "metadata": {},
   "outputs": [
    {
     "name": "stdout",
     "output_type": "stream",
     "text": [
      "['Sand', 'Gravel', 'Loam']\n"
     ]
    }
   ],
   "source": [
    "slice = soils[3:6]\n",
    "print(slice)"
   ]
  },
  {
   "cell_type": "code",
   "execution_count": 20,
   "metadata": {},
   "outputs": [
    {
     "name": "stdout",
     "output_type": "stream",
     "text": [
      "['Clay', 'Silt', 'Sand', 'Gravel']\n"
     ]
    }
   ],
   "source": [
    "slice = soils[1:5]\n",
    "print(slice)"
   ]
  },
  {
   "cell_type": "code",
   "execution_count": 21,
   "metadata": {},
   "outputs": [
    {
     "data": {
      "text/plain": [
       "['Sand', 'Gravel', 'Loam']"
      ]
     },
     "execution_count": 21,
     "metadata": {},
     "output_type": "execute_result"
    }
   ],
   "source": [
    "soils[-3:]"
   ]
  },
  {
   "cell_type": "code",
   "execution_count": 24,
   "metadata": {},
   "outputs": [
    {
     "data": {
      "text/plain": [
       "['Clay', 'Silt', 'Sand', 'Gravel']"
      ]
     },
     "execution_count": 24,
     "metadata": {},
     "output_type": "execute_result"
    }
   ],
   "source": [
    "soils[1:-1]"
   ]
  },
  {
   "cell_type": "code",
   "execution_count": 25,
   "metadata": {},
   "outputs": [
    {
     "ename": "SyntaxError",
     "evalue": "invalid syntax (3414585878.py, line 2)",
     "output_type": "error",
     "traceback": [
      "\u001b[1;36m  Input \u001b[1;32mIn [25]\u001b[1;36m\u001b[0m\n\u001b[1;33m    - functions that add items\u001b[0m\n\u001b[1;37m                ^\u001b[0m\n\u001b[1;31mSyntaxError\u001b[0m\u001b[1;31m:\u001b[0m invalid syntax\n"
     ]
    }
   ],
   "source": [
    "# list methods\n",
    "- functions that add items\n",
    "-append\n",
    "-insert\n",
    "-extend\n",
    "- functions that remove items\n",
    "-remove\n",
    "-pop\n",
    "-clear\n",
    "- functions that change items\n",
    "-copy\n",
    "-sort\n",
    "-reverse\n",
    "-index\n",
    "-count\n"
   ]
  },
  {
   "cell_type": "code",
   "execution_count": 26,
   "metadata": {},
   "outputs": [],
   "source": [
    "books = ['Warbreaker',\n",
    "          'The way of kings ' ,   \n",
    "           'The final empire' ,\n",
    "            'The hero of ages' ,\n",
    "            'The way of kings' ,\n",
    "            'The hero of ages' ,\n",
    "            'The final empire' ,\n",
    "            'warbreaker']"
   ]
  },
  {
   "cell_type": "code",
   "execution_count": 27,
   "metadata": {},
   "outputs": [
    {
     "name": "stdout",
     "output_type": "stream",
     "text": [
      "['Warbreaker', 'The way of kings ', 'The final empire', 'The hero of ages', 'The way of kings', 'The hero of ages', 'The final empire', 'warbreaker', 'legion']\n"
     ]
    }
   ],
   "source": [
    "books.append(\"legion\")\n",
    "print(books)"
   ]
  },
  {
   "cell_type": "code",
   "execution_count": 29,
   "metadata": {},
   "outputs": [
    {
     "name": "stdout",
     "output_type": "stream",
     "text": [
      "[1234, 123456788, 1234567, 123345, 12344556, 134455, 12345, 12344555, 123444545, 13345678]\n"
     ]
    }
   ],
   "source": [
    "numbers =[] # empty list\n",
    "for i in range(10):\n",
    "    val = int(input(\">< enter a number:\"))\n",
    "    numbers.append(val)\n",
    "print(numbers)    "
   ]
  },
  {
   "cell_type": "code",
   "execution_count": 30,
   "metadata": {},
   "outputs": [],
   "source": [
    "numbers.append('apple')"
   ]
  },
  {
   "cell_type": "code",
   "execution_count": 33,
   "metadata": {},
   "outputs": [],
   "source": [
    "numbers.append(['banana' , 'orange'])"
   ]
  },
  {
   "cell_type": "code",
   "execution_count": 35,
   "metadata": {},
   "outputs": [
    {
     "data": {
      "text/plain": [
       "[1, 2, 3.5, 3, 4, 5]"
      ]
     },
     "execution_count": 35,
     "metadata": {},
     "output_type": "execute_result"
    }
   ],
   "source": [
    "x = [1,2,3,4,5]\n",
    "x.insert(2, 3.5)\n",
    "x"
   ]
  },
  {
   "cell_type": "code",
   "execution_count": 2,
   "metadata": {},
   "outputs": [
    {
     "data": {
      "text/plain": [
       "[3, 4, 7, 10, 10]"
      ]
     },
     "execution_count": 2,
     "metadata": {},
     "output_type": "execute_result"
    }
   ],
   "source": [
    "x = [3,4,7,10]\n",
    "x.insert(4,10)\n",
    "x"
   ]
  },
  {
   "cell_type": "code",
   "execution_count": 3,
   "metadata": {},
   "outputs": [],
   "source": [
    "movies = [\n",
    "    'The Shawshank Redemption' ,\n",
    "    'The Godfather' ,\n",
    "    'The dark knight' ,\n",
    "    '12 angry mens ']\n"
   ]
  },
  {
   "cell_type": "code",
   "execution_count": 1,
   "metadata": {},
   "outputs": [
    {
     "ename": "NameError",
     "evalue": "name 'movies' is not defined",
     "output_type": "error",
     "traceback": [
      "\u001b[1;31m---------------------------------------------------------------------------\u001b[0m",
      "\u001b[1;31mNameError\u001b[0m                                 Traceback (most recent call last)",
      "\u001b[1;32mc:\\Users\\Infosys Solutions\\Documents\\jaya python\\strings.ipynb Cell 73'\u001b[0m in \u001b[0;36m<cell line: 1>\u001b[1;34m()\u001b[0m\n\u001b[1;32m----> <a href='vscode-notebook-cell:/c%3A/Users/Infosys%20Solutions/Documents/jaya%20python/strings.ipynb#ch0000073?line=0'>1</a>\u001b[0m movies\u001b[39m.\u001b[39mpop(\u001b[39m3\u001b[39m)\n",
      "\u001b[1;31mNameError\u001b[0m: name 'movies' is not defined"
     ]
    }
   ],
   "source": [
    "movies.pop(3)"
   ]
  },
  {
   "cell_type": "code",
   "execution_count": 5,
   "metadata": {},
   "outputs": [
    {
     "data": {
      "text/plain": [
       "10"
      ]
     },
     "execution_count": 5,
     "metadata": {},
     "output_type": "execute_result"
    }
   ],
   "source": [
    "x.pop(3) # last value\n"
   ]
  },
  {
   "cell_type": "code",
   "execution_count": 6,
   "metadata": {},
   "outputs": [
    {
     "data": {
      "text/plain": [
       "[]"
      ]
     },
     "execution_count": 6,
     "metadata": {},
     "output_type": "execute_result"
    }
   ],
   "source": [
    "movies.clear()\n",
    "movies"
   ]
  },
  {
   "cell_type": "code",
   "execution_count": 1,
   "metadata": {},
   "outputs": [
    {
     "ename": "NameError",
     "evalue": "name 'books' is not defined",
     "output_type": "error",
     "traceback": [
      "\u001b[1;31m---------------------------------------------------------------------------\u001b[0m",
      "\u001b[1;31mNameError\u001b[0m                                 Traceback (most recent call last)",
      "\u001b[1;32mc:\\Users\\Infosys Solutions\\Documents\\jaya python\\strings.ipynb Cell 76'\u001b[0m in \u001b[0;36m<cell line: 1>\u001b[1;34m()\u001b[0m\n\u001b[1;32m----> <a href='vscode-notebook-cell:/c%3A/Users/Infosys%20Solutions/Documents/jaya%20python/strings.ipynb#ch0000075?line=0'>1</a>\u001b[0m books\u001b[39m.\u001b[39mclear()\n\u001b[0;32m      <a href='vscode-notebook-cell:/c%3A/Users/Infosys%20Solutions/Documents/jaya%20python/strings.ipynb#ch0000075?line=1'>2</a>\u001b[0m books\n",
      "\u001b[1;31mNameError\u001b[0m: name 'books' is not defined"
     ]
    }
   ],
   "source": [
    "books.clear()\n",
    "books"
   ]
  },
  {
   "cell_type": "code",
   "execution_count": 3,
   "metadata": {},
   "outputs": [
    {
     "ename": "NameError",
     "evalue": "name 'colors' is not defined",
     "output_type": "error",
     "traceback": [
      "\u001b[1;31m---------------------------------------------------------------------------\u001b[0m",
      "\u001b[1;31mNameError\u001b[0m                                 Traceback (most recent call last)",
      "\u001b[1;32mc:\\Users\\Infosys Solutions\\Documents\\jaya python\\strings.ipynb Cell 77'\u001b[0m in \u001b[0;36m<cell line: 1>\u001b[1;34m()\u001b[0m\n\u001b[1;32m----> <a href='vscode-notebook-cell:/c%3A/Users/Infosys%20Solutions/Documents/jaya%20python/strings.ipynb#ch0000076?line=0'>1</a>\u001b[0m colors\u001b[39m.\u001b[39mreverse()\n\u001b[0;32m      <a href='vscode-notebook-cell:/c%3A/Users/Infosys%20Solutions/Documents/jaya%20python/strings.ipynb#ch0000076?line=1'>2</a>\u001b[0m \u001b[39mprint\u001b[39m(colors(\u001b[39m'\u001b[39m\u001b[39mblue\u001b[39m\u001b[39m'\u001b[39m))\n",
      "\u001b[1;31mNameError\u001b[0m: name 'colors' is not defined"
     ]
    }
   ],
   "source": [
    "colors.reverse()\n",
    "print(colors())\n",
    "\n"
   ]
  },
  {
   "cell_type": "code",
   "execution_count": 5,
   "metadata": {},
   "outputs": [
    {
     "ename": "NameError",
     "evalue": "name 'colors' is not defined",
     "output_type": "error",
     "traceback": [
      "\u001b[1;31m---------------------------------------------------------------------------\u001b[0m",
      "\u001b[1;31mNameError\u001b[0m                                 Traceback (most recent call last)",
      "\u001b[1;32mc:\\Users\\Infosys Solutions\\Documents\\jaya python\\strings.ipynb Cell 80'\u001b[0m in \u001b[0;36m<cell line: 1>\u001b[1;34m()\u001b[0m\n\u001b[1;32m----> <a href='vscode-notebook-cell:/c%3A/Users/Infosys%20Solutions/Documents/jaya%20python/strings.ipynb#ch0000079?line=0'>1</a>\u001b[0m colors\u001b[39m.\u001b[39mindex(\u001b[39m'\u001b[39m\u001b[39myellow\u001b[39m\u001b[39m'\u001b[39m)\n",
      "\u001b[1;31mNameError\u001b[0m: name 'colors' is not defined"
     ]
    }
   ],
   "source": [
    "colors."
   ]
  },
  {
   "cell_type": "code",
   "execution_count": 4,
   "metadata": {},
   "outputs": [
    {
     "ename": "NameError",
     "evalue": "name 'colors' is not defined",
     "output_type": "error",
     "traceback": [
      "\u001b[1;31m---------------------------------------------------------------------------\u001b[0m",
      "\u001b[1;31mNameError\u001b[0m                                 Traceback (most recent call last)",
      "\u001b[1;32mc:\\Users\\Infosys Solutions\\Documents\\jaya python\\strings.ipynb Cell 81'\u001b[0m in \u001b[0;36m<cell line: 1>\u001b[1;34m()\u001b[0m\n\u001b[1;32m----> <a href='vscode-notebook-cell:/c%3A/Users/Infosys%20Solutions/Documents/jaya%20python/strings.ipynb#ch0000080?line=0'>1</a>\u001b[0m \u001b[39mif\u001b[39;00m \u001b[39m'\u001b[39m\u001b[39myellow\u001b[39m\u001b[39m'\u001b[39m \u001b[39min\u001b[39;00m colors:\n\u001b[0;32m      <a href='vscode-notebook-cell:/c%3A/Users/Infosys%20Solutions/Documents/jaya%20python/strings.ipynb#ch0000080?line=1'>2</a>\u001b[0m     \u001b[39mprint\u001b[39m(colors\u001b[39m.\u001b[39mindex(\u001b[39m'\u001b[39m\u001b[39myellow\u001b[39m\u001b[39m'\u001b[39m))\n",
      "\u001b[1;31mNameError\u001b[0m: name 'colors' is not defined"
     ]
    }
   ],
   "source": [
    "if 'yellow' in colors:\n",
    "    print(colors.index('yellow'))"
   ]
  },
  {
   "cell_type": "code",
   "execution_count": 17,
   "metadata": {},
   "outputs": [],
   "source": [
    "uc= input('enter the color')\n",
    "if uc in colors:\n",
    "    print(colors.index(uc))"
   ]
  },
  {
   "cell_type": "code",
   "execution_count": 18,
   "metadata": {},
   "outputs": [],
   "source": [
    "colors = ['red' , 'yellow', 'white' , 'orange' ,'red' , 'red']"
   ]
  },
  {
   "cell_type": "code",
   "execution_count": 19,
   "metadata": {},
   "outputs": [
    {
     "data": {
      "text/plain": [
       "3"
      ]
     },
     "execution_count": 19,
     "metadata": {},
     "output_type": "execute_result"
    }
   ],
   "source": [
    "colors.count('red')"
   ]
  },
  {
   "cell_type": "code",
   "execution_count": 20,
   "metadata": {},
   "outputs": [
    {
     "data": {
      "text/plain": [
       "1"
      ]
     },
     "execution_count": 20,
     "metadata": {},
     "output_type": "execute_result"
    }
   ],
   "source": [
    "colors.count('white')"
   ]
  },
  {
   "cell_type": "code",
   "execution_count": 28,
   "metadata": {},
   "outputs": [
    {
     "name": "stdout",
     "output_type": "stream",
     "text": [
      "True\n"
     ]
    }
   ],
   "source": [
    "a = colors.copy()\n",
    "print(a == colors)"
   ]
  },
  {
   "cell_type": "code",
   "execution_count": 2,
   "metadata": {},
   "outputs": [],
   "source": [
    "x = [1,2,3]\n",
    "y = x\n",
    "z = x.copy()"
   ]
  },
  {
   "cell_type": "code",
   "execution_count": 3,
   "metadata": {},
   "outputs": [
    {
     "name": "stdout",
     "output_type": "stream",
     "text": [
      "x & y True True\n",
      "x & z False True\n"
     ]
    }
   ],
   "source": [
    "print('x & y' , x is y, x == y)\n",
    "print('x & z' , x is z, x == z)"
   ]
  },
  {
   "cell_type": "code",
   "execution_count": 1,
   "metadata": {},
   "outputs": [
    {
     "name": "stdout",
     "output_type": "stream",
     "text": [
      "<class 'int'>\n"
     ]
    }
   ],
   "source": [
    "# create a string and print it.\n",
    "a = input(\"Enter a number:\")\n",
    "a = int(a) # convert a to an Integer(if possible)\n",
    "print(type(a))"
   ]
  },
  {
   "cell_type": "code",
   "execution_count": null,
   "metadata": {},
   "outputs": [],
   "source": []
  }
 ],
 "metadata": {
  "interpreter": {
   "hash": "e81d28461f6f899f1a26af0bc7a84c40cadece640d2bc8d7eeaa30473e07ec92"
  },
  "kernelspec": {
   "display_name": "Python 3.9.7 64-bit",
   "language": "python",
   "name": "python3"
  },
  "language_info": {
   "codemirror_mode": {
    "name": "ipython",
    "version": 3
   },
   "file_extension": ".py",
   "mimetype": "text/x-python",
   "name": "python",
   "nbconvert_exporter": "python",
   "pygments_lexer": "ipython3",
   "version": "3.9.7"
  },
  "orig_nbformat": 4
 },
 "nbformat": 4,
 "nbformat_minor": 2
}
