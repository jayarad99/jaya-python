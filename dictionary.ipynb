{
 "cells": [
  {
   "cell_type": "markdown",
   "metadata": {},
   "source": [
    "dictionary is ordered collection of items.\n",
    "each item has key/value pair.\n",
    "key has been unique and value are same."
   ]
  },
  {
   "cell_type": "code",
   "execution_count": 1,
   "metadata": {},
   "outputs": [
    {
     "name": "stdout",
     "output_type": "stream",
     "text": [
      "{'name': 'Narendra', 'age': '40', 'subject': 'Artificial Intelligence', 'married': 'True', 'is_student': 'False', 'ID': '18'}\n"
     ]
    }
   ],
   "source": [
    "info_dict = {\n",
    "    'name':'Narendra',\n",
    "    'age' :'40' ,\n",
    "    'subject':'Artificial Intelligence' ,\n",
    "    'married':'True' ,\n",
    "    'is_student':'False' ,\n",
    "    'ID':'18'\n",
    "}\n",
    "print(info_dict)\n",
    "\n"
   ]
  },
  {
   "cell_type": "code",
   "execution_count": 3,
   "metadata": {},
   "outputs": [
    {
     "data": {
      "text/plain": [
       "'40'"
      ]
     },
     "execution_count": 3,
     "metadata": {},
     "output_type": "execute_result"
    }
   ],
   "source": [
    "info_dict['age']"
   ]
  },
  {
   "cell_type": "code",
   "execution_count": 13,
   "metadata": {},
   "outputs": [
    {
     "name": "stdout",
     "output_type": "stream",
     "text": [
      "26\n"
     ]
    }
   ],
   "source": [
    "# output: 26\n",
    "print(my_dict.get('age'))"
   ]
  },
  {
   "cell_type": "code",
   "execution_count": 14,
   "metadata": {},
   "outputs": [],
   "source": [
    "# update value\n",
    "my_dict['age'] = 27"
   ]
  },
  {
   "cell_type": "code",
   "execution_count": 15,
   "metadata": {},
   "outputs": [],
   "source": [
    "# add item\n",
    "my_dict['address'] = 'Downtown'"
   ]
  },
  {
   "cell_type": "code",
   "execution_count": 16,
   "metadata": {},
   "outputs": [
    {
     "name": "stdout",
     "output_type": "stream",
     "text": [
      "{'name': 'Jack', 'age': 27, 'address': 'Downtown'}\n"
     ]
    }
   ],
   "source": [
    "print(my_dict)"
   ]
  },
  {
   "cell_type": "code",
   "execution_count": 27,
   "metadata": {},
   "outputs": [],
   "source": [
    "# create a dictionary\n",
    "squares = {1: 1, 2: 4, 3: 9, 4: 16,5: 25}"
   ]
  },
  {
   "cell_type": "code",
   "execution_count": 28,
   "metadata": {},
   "outputs": [
    {
     "name": "stdout",
     "output_type": "stream",
     "text": [
      "16\n",
      "{1: 1, 2: 4, 3: 9, 5: 25}\n"
     ]
    }
   ],
   "source": [
    "print(squares.pop(4))\n",
    "print(squares)"
   ]
  },
  {
   "cell_type": "code",
   "execution_count": 29,
   "metadata": {},
   "outputs": [
    {
     "name": "stdout",
     "output_type": "stream",
     "text": [
      "(5, 25)\n",
      "{1: 1, 2: 4, 3: 9}\n"
     ]
    }
   ],
   "source": [
    "print(squares.popitem())\n",
    "print(squares)"
   ]
  },
  {
   "cell_type": "code",
   "execution_count": 4,
   "metadata": {},
   "outputs": [],
   "source": [
    "squares.clear()"
   ]
  },
  {
   "cell_type": "markdown",
   "metadata": {},
   "source": [
    "Dictionary and sets\n",
    "collection of keyvalue pair (dic)\n",
    "properties of dict is unordered,it is mutable,indexed,cannot contain duplicate keys.\n",
    "items- return a list of key value tuples\n",
    "keys- return a list containing dictionary's keys\n",
    "update-update the dict with supply key value pairs.\n",
    ".get-"
   ]
  },
  {
   "cell_type": "code",
   "execution_count": 4,
   "metadata": {},
   "outputs": [
    {
     "name": "stdout",
     "output_type": "stream",
     "text": [
      "['Fast', 'Marks', 'harry', 'anotherdict', 1]\n",
      "dict_values(['in a quick manner', [1, 2, 4], 'A coder', {'harry': 'player'}, 2])\n",
      "dict_items([('Fast', 'in a quick manner'), ('Marks', [1, 2, 4]), ('harry', 'A coder'), ('anotherdict', {'harry': 'player'}), (1, 2)])\n",
      "{'Fast': 'in a quick manner', 'Marks': [1, 2, 4], 'harry': 'A coder', 'anotherdict': {'harry': 'player'}, 1: 2, 'Ankita': 'Friend'}\n"
     ]
    }
   ],
   "source": [
    "myDict = {\n",
    "    \"Fast\": \"in a quick manner\",\n",
    "    \"Marks\":[1,2,4],\n",
    "    \"harry\": \"A coder\",\n",
    "    \"anotherdict\": {'harry': 'player'},\n",
    "    1:2\n",
    "}\n",
    "print(list(myDict.keys())) # prints the key of the dictionary\n",
    "print(myDict.values()) # prints the key of the dictionary\n",
    "print(myDict.items()) # prints the (key,value)\n",
    "# print(myDict['Marks'])\n",
    "updateDict ={\n",
    "    \"Ankita\": \"Friend\"\n",
    "}\n",
    "myDict.update(updateDict) # update the dictionary by adding key-value pairs from updateDict\n",
    "print(myDict)\n",
    "\n",
    "print(myDict.get(\"harry\")) # returns none not present dictionary\n"
   ]
  },
  {
   "cell_type": "markdown",
   "metadata": {},
   "source": []
  },
  {
   "cell_type": "code",
   "execution_count": null,
   "metadata": {},
   "outputs": [],
   "source": [
    "a = [1,2,3,5]\n",
    "b = []"
   ]
  }
 ],
 "metadata": {
  "interpreter": {
   "hash": "e81d28461f6f899f1a26af0bc7a84c40cadece640d2bc8d7eeaa30473e07ec92"
  },
  "kernelspec": {
   "display_name": "Python 3.9.7 64-bit",
   "language": "python",
   "name": "python3"
  },
  "language_info": {
   "codemirror_mode": {
    "name": "ipython",
    "version": 3
   },
   "file_extension": ".py",
   "mimetype": "text/x-python",
   "name": "python",
   "nbconvert_exporter": "python",
   "pygments_lexer": "ipython3",
   "version": "3.9.7"
  },
  "orig_nbformat": 4
 },
 "nbformat": 4,
 "nbformat_minor": 2
}
