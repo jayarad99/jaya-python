{
 "cells": [
  {
   "cell_type": "code",
   "execution_count": 7,
   "metadata": {},
   "outputs": [
    {
     "name": "stdout",
     "output_type": "stream",
     "text": [
      "P\n",
      "Y\n",
      "T\n",
      "H\n",
      "O\n",
      "N\n"
     ]
    }
   ],
   "source": [
    "x = \"PYTHON\"\n",
    "for i in x:\n",
    "    print(i)"
   ]
  },
  {
   "cell_type": "code",
   "execution_count": 11,
   "metadata": {},
   "outputs": [
    {
     "name": "stdout",
     "output_type": "stream",
     "text": [
      "O n c e "
     ]
    }
   ],
   "source": [
    "story=\"Once\"\n",
    "for char in story:\n",
    "    print(char, end=' ')"
   ]
  },
  {
   "cell_type": "code",
   "execution_count": 9,
   "metadata": {},
   "outputs": [
    {
     "name": "stdout",
     "output_type": "stream",
     "text": [
      "Alice 5\n",
      "Bob 3\n",
      "Charlie 7\n",
      "David 5\n",
      "Eve 3\n",
      "Frank 5\n"
     ]
    }
   ],
   "source": [
    "names = ['Alice','Bob','Charlie','David','Eve','Frank']\n",
    "for name in names:\n",
    "    print(name, len(name))"
   ]
  },
  {
   "cell_type": "code",
   "execution_count": 12,
   "metadata": {},
   "outputs": [
    {
     "name": "stdout",
     "output_type": "stream",
     "text": [
      "i have apple\n",
      "i have banana\n",
      "i have lemon\n"
     ]
    }
   ],
   "source": [
    "fruits = ['apple','banana','lemon']\n",
    "for item in fruits:\n",
    "    print(f'i have {item}')"
   ]
  },
  {
   "cell_type": "code",
   "execution_count": 13,
   "metadata": {},
   "outputs": [
    {
     "name": "stdout",
     "output_type": "stream",
     "text": [
      "you got point 0\n",
      "you got point 1\n",
      "you got point 2\n",
      "you got point 3\n",
      "you got point 4\n",
      "you got point 5\n",
      "you got point 6\n",
      "you got point 7\n",
      "you got point 8\n",
      "you got point 9\n",
      "you got point 10\n",
      "you got point 11\n",
      "you got point 12\n",
      "you got point 13\n",
      "you got point 14\n",
      "you got point 15\n",
      "you got point 16\n",
      "you got point 17\n",
      "you got point 18\n",
      "you got point 19\n",
      "you got point 20\n",
      "you got point 21\n",
      "you got point 22\n",
      "you got point 23\n",
      "you got point 24\n",
      "you got point 25\n",
      "you got point 26\n",
      "you got point 27\n",
      "you got point 28\n",
      "you got point 29\n",
      "you got point 30\n",
      "you got point 31\n",
      "you got point 32\n",
      "you got point 33\n",
      "you got point 34\n",
      "you got point 35\n",
      "you got point 36\n",
      "you got point 37\n",
      "you got point 38\n",
      "you got point 39\n",
      "you got point 40\n",
      "you got point 41\n",
      "you got point 42\n",
      "you got point 43\n",
      "you got point 44\n",
      "you got point 45\n",
      "you got point 46\n",
      "you got point 47\n",
      "you got point 48\n",
      "you got point 49\n",
      "you got point 50\n",
      "you got point 51\n",
      "you got point 52\n",
      "you got point 53\n",
      "you got point 54\n",
      "you got point 55\n",
      "you got point 56\n",
      "you got point 57\n",
      "you got point 58\n",
      "you got point 59\n",
      "you got point 60\n",
      "you got point 61\n",
      "you got point 62\n",
      "you got point 63\n",
      "you got point 64\n",
      "you got point 65\n",
      "you got point 66\n",
      "you got point 67\n",
      "you got point 68\n",
      "you got point 69\n",
      "you got point 70\n",
      "you got point 71\n",
      "you got point 72\n",
      "you got point 73\n",
      "you got point 74\n",
      "you got point 75\n",
      "you got point 76\n",
      "you got point 77\n",
      "you got point 78\n",
      "you got point 79\n",
      "you got point 80\n",
      "you got point 81\n",
      "you got point 82\n",
      "you got point 83\n",
      "you got point 84\n",
      "you got point 85\n",
      "you got point 86\n",
      "you got point 87\n",
      "you got point 88\n",
      "you got point 89\n",
      "you got point 90\n",
      "you got point 91\n",
      "you got point 92\n",
      "you got point 93\n",
      "you got point 94\n",
      "you got point 95\n",
      "you got point 96\n",
      "you got point 97\n",
      "you got point 98\n",
      "you got point 99\n",
      "you got point 100\n",
      "you got point 101\n",
      "you got point 102\n",
      "you got point 103\n",
      "you got point 104\n",
      "you got point 105\n",
      "you got point 106\n",
      "you got point 107\n",
      "you got point 108\n",
      "you got point 109\n",
      "you got point 110\n",
      "you got point 111\n",
      "you got point 112\n",
      "you got point 113\n",
      "you got point 114\n",
      "you got point 115\n",
      "you got point 116\n",
      "you got point 117\n",
      "you got point 118\n",
      "you got point 119\n",
      "you got point 120\n",
      "you got point 121\n",
      "you got point 122\n",
      "you got point 123\n",
      "you got point 124\n",
      "you got point 125\n",
      "you got point 126\n",
      "you got point 127\n",
      "you got point 128\n",
      "you got point 129\n",
      "you got point 130\n",
      "you got point 131\n",
      "you got point 132\n",
      "you got point 133\n",
      "you got point 134\n",
      "you got point 135\n",
      "you got point 136\n",
      "you got point 137\n",
      "you got point 138\n",
      "you got point 139\n",
      "you got point 140\n",
      "you got point 141\n",
      "you got point 142\n",
      "you got point 143\n",
      "you got point 144\n",
      "you got point 145\n",
      "you got point 146\n",
      "you got point 147\n",
      "you got point 148\n",
      "you got point 149\n",
      "you got point 150\n",
      "you got point 151\n",
      "you got point 152\n",
      "you got point 153\n",
      "you got point 154\n",
      "you got point 155\n",
      "you got point 156\n",
      "you got point 157\n",
      "you got point 158\n",
      "you got point 159\n",
      "you got point 160\n",
      "you got point 161\n",
      "you got point 162\n",
      "you got point 163\n",
      "you got point 164\n",
      "you got point 165\n",
      "you got point 166\n",
      "you got point 167\n",
      "you got point 168\n",
      "you got point 169\n",
      "you got point 170\n",
      "you got point 171\n",
      "you got point 172\n",
      "you got point 173\n",
      "you got point 174\n",
      "you got point 175\n",
      "you got point 176\n",
      "you got point 177\n",
      "you got point 178\n",
      "you got point 179\n",
      "you got point 180\n",
      "you got point 181\n",
      "you got point 182\n",
      "you got point 183\n",
      "you got point 184\n",
      "you got point 185\n",
      "you got point 186\n",
      "you got point 187\n",
      "you got point 188\n",
      "you got point 189\n",
      "you got point 190\n",
      "you got point 191\n",
      "you got point 192\n",
      "you got point 193\n",
      "you got point 194\n",
      "you got point 195\n",
      "you got point 196\n",
      "you got point 197\n",
      "you got point 198\n",
      "you got point 199\n",
      "you got point 200\n",
      "you got point 201\n",
      "you got point 202\n",
      "you got point 203\n",
      "you got point 204\n",
      "you got point 205\n",
      "you got point 206\n",
      "you got point 207\n",
      "you got point 208\n",
      "you got point 209\n",
      "you got point 210\n",
      "you got point 211\n",
      "you got point 212\n",
      "you got point 213\n",
      "you got point 214\n",
      "you got point 215\n",
      "you got point 216\n",
      "you got point 217\n",
      "you got point 218\n",
      "you got point 219\n",
      "you got point 220\n",
      "you got point 221\n",
      "you got point 222\n",
      "you got point 223\n",
      "you got point 224\n",
      "you got point 225\n",
      "you got point 226\n",
      "you got point 227\n",
      "you got point 228\n",
      "you got point 229\n",
      "you got point 230\n",
      "you got point 231\n",
      "you got point 232\n",
      "you got point 233\n",
      "you got point 234\n",
      "you got point 235\n",
      "you got point 236\n",
      "you got point 237\n",
      "you got point 238\n",
      "you got point 239\n",
      "you got point 240\n",
      "you got point 241\n",
      "you got point 242\n",
      "you got point 243\n",
      "you got point 244\n",
      "you got point 245\n",
      "you got point 246\n",
      "you got point 247\n",
      "you got point 248\n",
      "you got point 249\n",
      "you got point 250\n",
      "you got point 251\n",
      "you got point 252\n",
      "you got point 253\n",
      "you got point 254\n",
      "you got point 255\n",
      "you got point 256\n",
      "you got point 257\n",
      "you got point 258\n",
      "you got point 259\n",
      "you got point 260\n",
      "you got point 261\n",
      "you got point 262\n",
      "you got point 263\n",
      "you got point 264\n",
      "you got point 265\n",
      "you got point 266\n",
      "you got point 267\n",
      "you got point 268\n",
      "you got point 269\n",
      "you got point 270\n",
      "you got point 271\n",
      "you got point 272\n",
      "you got point 273\n",
      "you got point 274\n",
      "you got point 275\n",
      "you got point 276\n",
      "you got point 277\n",
      "you got point 278\n",
      "you got point 279\n",
      "you got point 280\n",
      "you got point 281\n",
      "you got point 282\n",
      "you got point 283\n",
      "you got point 284\n",
      "you got point 285\n",
      "you got point 286\n",
      "you got point 287\n",
      "you got point 288\n",
      "you got point 289\n",
      "you got point 290\n",
      "you got point 291\n",
      "you got point 292\n",
      "you got point 293\n",
      "you got point 294\n",
      "you got point 295\n",
      "you got point 296\n",
      "you got point 297\n",
      "you got point 298\n",
      "you got point 299\n",
      "you got point 300\n",
      "you got point 301\n",
      "you got point 302\n",
      "you got point 303\n",
      "you got point 304\n",
      "you got point 305\n",
      "you got point 306\n",
      "you got point 307\n",
      "you got point 308\n",
      "you got point 309\n",
      "you got point 310\n",
      "you got point 311\n",
      "you got point 312\n",
      "you got point 313\n",
      "you got point 314\n",
      "you got point 315\n",
      "you got point 316\n",
      "you got point 317\n",
      "you got point 318\n",
      "you got point 319\n",
      "you got point 320\n",
      "you got point 321\n",
      "you got point 322\n",
      "you got point 323\n",
      "you got point 324\n",
      "you got point 325\n",
      "you got point 326\n",
      "you got point 327\n",
      "you got point 328\n",
      "you got point 329\n",
      "you got point 330\n",
      "you got point 331\n",
      "you got point 332\n",
      "you got point 333\n",
      "you got point 334\n",
      "you got point 335\n",
      "you got point 336\n",
      "you got point 337\n",
      "you got point 338\n",
      "you got point 339\n",
      "you got point 340\n",
      "you got point 341\n",
      "you got point 342\n",
      "you got point 343\n",
      "you got point 344\n",
      "you got point 345\n",
      "you got point 346\n",
      "you got point 347\n",
      "you got point 348\n",
      "you got point 349\n",
      "you got point 350\n",
      "you got point 351\n",
      "you got point 352\n",
      "you got point 353\n",
      "you got point 354\n",
      "you got point 355\n",
      "you got point 356\n",
      "you got point 357\n",
      "you got point 358\n",
      "you got point 359\n",
      "you got point 360\n",
      "you got point 361\n",
      "you got point 362\n",
      "you got point 363\n",
      "you got point 364\n",
      "you got point 365\n",
      "you got point 366\n",
      "you got point 367\n",
      "you got point 368\n",
      "you got point 369\n",
      "you got point 370\n",
      "you got point 371\n",
      "you got point 372\n",
      "you got point 373\n",
      "you got point 374\n",
      "you got point 375\n",
      "you got point 376\n",
      "you got point 377\n",
      "you got point 378\n",
      "you got point 379\n",
      "you got point 380\n",
      "you got point 381\n",
      "you got point 382\n",
      "you got point 383\n",
      "you got point 384\n",
      "you got point 385\n",
      "you got point 386\n",
      "you got point 387\n",
      "you got point 388\n",
      "you got point 389\n",
      "you got point 390\n",
      "you got point 391\n",
      "you got point 392\n",
      "you got point 393\n",
      "you got point 394\n",
      "you got point 395\n",
      "you got point 396\n",
      "you got point 397\n",
      "you got point 398\n",
      "you got point 399\n",
      "you got point 400\n",
      "you got point 401\n",
      "you got point 402\n",
      "you got point 403\n",
      "you got point 404\n",
      "you got point 405\n",
      "you got point 406\n",
      "you got point 407\n",
      "you got point 408\n",
      "you got point 409\n",
      "you got point 410\n",
      "you got point 411\n",
      "you got point 412\n",
      "you got point 413\n",
      "you got point 414\n",
      "you got point 415\n",
      "you got point 416\n",
      "you got point 417\n",
      "you got point 418\n",
      "you got point 419\n",
      "you got point 420\n",
      "you got point 421\n",
      "you got point 422\n",
      "you got point 423\n",
      "you got point 424\n",
      "you got point 425\n",
      "you got point 426\n",
      "you got point 427\n",
      "you got point 428\n",
      "you got point 429\n",
      "you got point 430\n",
      "you got point 431\n",
      "you got point 432\n",
      "you got point 433\n",
      "you got point 434\n",
      "you got point 435\n",
      "you got point 436\n",
      "you got point 437\n",
      "you got point 438\n",
      "you got point 439\n",
      "you got point 440\n",
      "you got point 441\n",
      "you got point 442\n",
      "you got point 443\n",
      "you got point 444\n",
      "you got point 445\n",
      "you got point 446\n",
      "you got point 447\n",
      "you got point 448\n",
      "you got point 449\n",
      "you got point 450\n",
      "you got point 451\n",
      "you got point 452\n",
      "you got point 453\n",
      "you got point 454\n",
      "you got point 455\n",
      "you got point 456\n",
      "you got point 457\n",
      "you got point 458\n",
      "you got point 459\n",
      "you got point 460\n",
      "you got point 461\n",
      "you got point 462\n",
      "you got point 463\n",
      "you got point 464\n",
      "you got point 465\n",
      "you got point 466\n",
      "you got point 467\n",
      "you got point 468\n",
      "you got point 469\n",
      "you got point 470\n",
      "you got point 471\n",
      "you got point 472\n",
      "you got point 473\n",
      "you got point 474\n",
      "you got point 475\n",
      "you got point 476\n",
      "you got point 477\n",
      "you got point 478\n",
      "you got point 479\n",
      "you got point 480\n",
      "you got point 481\n",
      "you got point 482\n",
      "you got point 483\n",
      "you got point 484\n",
      "you got point 485\n",
      "you got point 486\n",
      "you got point 487\n",
      "you got point 488\n",
      "you got point 489\n",
      "you got point 490\n",
      "you got point 491\n",
      "you got point 492\n",
      "you got point 493\n",
      "you got point 494\n",
      "you got point 495\n",
      "you got point 496\n",
      "you got point 497\n",
      "you got point 498\n",
      "you got point 499\n"
     ]
    }
   ],
   "source": [
    "for i in range(500):\n",
    "    print('you got point',i)\n"
   ]
  },
  {
   "cell_type": "code",
   "execution_count": 14,
   "metadata": {},
   "outputs": [
    {
     "name": "stdout",
     "output_type": "stream",
     "text": [
      "level 1\n",
      "level 4\n",
      "level 7\n"
     ]
    }
   ],
   "source": [
    "for num in range(1,10,3):\n",
    "    print('level',num)"
   ]
  },
  {
   "cell_type": "code",
   "execution_count": 17,
   "metadata": {},
   "outputs": [
    {
     "name": "stdout",
     "output_type": "stream",
     "text": [
      "sheep 2\n",
      "sheep 3\n",
      "sheep 4\n",
      "sheep 5\n",
      "sheep 6\n",
      "sheep 7\n",
      "sheep 8\n",
      "sheep 9\n",
      "sheep 10\n"
     ]
    }
   ],
   "source": [
    "for num in range(2,11):\n",
    "    print('sheep',num)"
   ]
  },
  {
   "cell_type": "code",
   "execution_count": 21,
   "metadata": {},
   "outputs": [
    {
     "name": "stdout",
     "output_type": "stream",
     "text": [
      "10\n",
      "9\n",
      "8\n",
      "7\n",
      "6\n"
     ]
    }
   ],
   "source": [
    "# reverse loop\n",
    "for num in range(10,5,-1):\n",
    "    print(num)"
   ]
  },
  {
   "cell_type": "code",
   "execution_count": 19,
   "metadata": {},
   "outputs": [
    {
     "name": "stdout",
     "output_type": "stream",
     "text": [
      "\n",
      "Na\n",
      "NaNa\n",
      "NaNaNa\n",
      "NaNaNaNa\n",
      "NaNaNaNaNa\n",
      "NaNaNaNaNaNa\n",
      "NaNaNaNaNaNaNa\n",
      "NaNaNaNaNaNaNaNa\n",
      "NaNaNaNaNaNaNaNaNa\n"
     ]
    }
   ],
   "source": [
    "# pattern loop\n",
    "for i in range(10):\n",
    "    print(i * 'Na')"
   ]
  },
  {
   "cell_type": "code",
   "execution_count": 30,
   "metadata": {},
   "outputs": [
    {
     "name": "stdout",
     "output_type": "stream",
     "text": [
      "1275\n"
     ]
    }
   ],
   "source": [
    "1# wap to calculate total number from 1 to 50\n",
    "\n",
    "total = 0\n",
    "for i in range(1,51):\n",
    "    total += i\n",
    "print(total)"
   ]
  },
  {
   "cell_type": "code",
   "execution_count": 44,
   "metadata": {},
   "outputs": [
    {
     "name": "stdout",
     "output_type": "stream",
     "text": [
      "1683\n"
     ]
    }
   ],
   "source": [
    "# wap to add all numbers that are divisible by 3 ranging from 1 \n",
    "\n",
    "values = 0\n",
    "for i in range(1,101):\n",
    "    if(i%3==0):\n",
    "        values = values + i\n",
    "print(values)        \n"
   ]
  },
  {
   "cell_type": "code",
   "execution_count": 42,
   "metadata": {},
   "outputs": [
    {
     "name": "stdout",
     "output_type": "stream",
     "text": [
      "1683\n"
     ]
    }
   ],
   "source": [
    "total = 0\n",
    "for  i in range(3,100,3):\n",
    "    total += i\n",
    "print(total)    "
   ]
  },
  {
   "cell_type": "code",
   "execution_count": 36,
   "metadata": {},
   "outputs": [
    {
     "name": "stdout",
     "output_type": "stream",
     "text": [
      "50.0\n"
     ]
    }
   ],
   "source": [
    "total = 0\n",
    "for i in range(1,100):\n",
    "    total = total+i\n",
    "print(total/99)    "
   ]
  },
  {
   "cell_type": "code",
   "execution_count": 46,
   "metadata": {},
   "outputs": [
    {
     "name": "stdout",
     "output_type": "stream",
     "text": [
      "28\n"
     ]
    }
   ],
   "source": [
    "total = 0\n",
    "for i in range(8):\n",
    "    total=total + i\n",
    "print(total)\n"
   ]
  },
  {
   "cell_type": "code",
   "execution_count": 1,
   "metadata": {},
   "outputs": [
    {
     "name": "stdout",
     "output_type": "stream",
     "text": [
      "45\n"
     ]
    }
   ],
   "source": [
    "total = 0\n",
    "for i in range(10):\n",
    "    total=total +i\n",
    "print(total)    "
   ]
  },
  {
   "cell_type": "code",
   "execution_count": 2,
   "metadata": {},
   "outputs": [
    {
     "name": "stdout",
     "output_type": "stream",
     "text": [
      "1263\n"
     ]
    }
   ],
   "source": [
    "total = 38\n",
    "for i in range(50):\n",
    "    total=total +i \n",
    "print(total)    "
   ]
  },
  {
   "cell_type": "code",
   "execution_count": 3,
   "metadata": {},
   "outputs": [
    {
     "name": "stdout",
     "output_type": "stream",
     "text": [
      "3227\n"
     ]
    }
   ],
   "source": [
    "total = 67\n",
    "for i in range(80):\n",
    "    total=total +i\n",
    "print(total)    "
   ]
  },
  {
   "cell_type": "code",
   "execution_count": 4,
   "metadata": {},
   "outputs": [
    {
     "name": "stdout",
     "output_type": "stream",
     "text": [
      "4083\n"
     ]
    }
   ],
   "source": [
    "total = 78\n",
    "for i in range(90):\n",
    "    total=total +i\n",
    "print(total)    "
   ]
  },
  {
   "cell_type": "code",
   "execution_count": 7,
   "metadata": {},
   "outputs": [
    {
     "name": "stdout",
     "output_type": "stream",
     "text": [
      "5050\n"
     ]
    }
   ],
   "source": [
    "total = 100\n",
    "for i in range(100):\n",
    "    total=total +i\n",
    "print(total)    "
   ]
  },
  {
   "cell_type": "code",
   "execution_count": 2,
   "metadata": {},
   "outputs": [
    {
     "name": "stdout",
     "output_type": "stream",
     "text": [
      "run\n",
      "run\n",
      "run\n",
      "run\n",
      "stop\n"
     ]
    }
   ],
   "source": [
    "x = 1\n",
    "while x < 5:\n",
    "    print('run')\n",
    "    x += 1\n",
    "print('stop')    "
   ]
  },
  {
   "cell_type": "code",
   "execution_count": 6,
   "metadata": {},
   "outputs": [
    {
     "name": "stdout",
     "output_type": "stream",
     "text": [
      "The sum is 5050\n"
     ]
    }
   ],
   "source": [
    "\n",
    "n = 100\n",
    "# initialize sum and counter\n",
    "sum = 0\n",
    "i = 1\n",
    "while i <= n:\n",
    "    sum = sum + i\n",
    "    i =i+1 # update counter\n",
    "# print the sum\n",
    "print(\"The sum is\",sum)    "
   ]
  },
  {
   "cell_type": "code",
   "execution_count": 8,
   "metadata": {},
   "outputs": [],
   "source": [
    "data = [1,2,3,4,5,6,7,8,9,10]\n",
    " \n",
    "for val in data:\n",
    "    if val < 0:\n",
    "     print(val)        "
   ]
  },
  {
   "cell_type": "code",
   "execution_count": 10,
   "metadata": {},
   "outputs": [
    {
     "name": "stdout",
     "output_type": "stream",
     "text": [
      "1\n",
      "2\n",
      "3\n",
      "4\n",
      "5\n",
      "6\n",
      "7\n",
      "8\n",
      "9\n",
      "10\n"
     ]
    }
   ],
   "source": [
    "data =[1,2,3,4,5,6,7,8,9,10]\n",
    "\n",
    "for val in data:\n",
    "    if val < 0:\n",
    "        break\n",
    "    print(val)"
   ]
  },
  {
   "cell_type": "code",
   "execution_count": 11,
   "metadata": {},
   "outputs": [
    {
     "name": "stdout",
     "output_type": "stream",
     "text": [
      "12345678910"
     ]
    }
   ],
   "source": [
    "data = [1,2,3,4,5,6,7,8,9,10]\n",
    "\n",
    "for val in data:\n",
    "    if val < 0:\n",
    "        break\n",
    "    print(val,end='')"
   ]
  },
  {
   "cell_type": "code",
   "execution_count": 12,
   "metadata": {},
   "outputs": [
    {
     "name": "stdout",
     "output_type": "stream",
     "text": [
      "1\n",
      "2\n",
      "3\n",
      "4\n",
      "5\n",
      "6\n",
      "7\n",
      "8\n"
     ]
    }
   ],
   "source": [
    "for i in range(1,100):\n",
    "    print(i)\n",
    "    if i % 8 == 0:\n",
    "        break"
   ]
  },
  {
   "cell_type": "code",
   "execution_count": null,
   "metadata": {},
   "outputs": [],
   "source": [
    "size = 100\n",
    "start 1\n",
    "while start <= size:\n",
    "    name = input(\"enter a name of product\")\n",
    "        if name"
   ]
  },
  {
   "cell_type": "code",
   "execution_count": 14,
   "metadata": {},
   "outputs": [
    {
     "name": "stdout",
     "output_type": "stream",
     "text": [
      "4\n"
     ]
    }
   ],
   "source": [
    "names= ['alice','bob','','charlie','','david','','eve','','frank']\n",
    "print(len(names))"
   ]
  },
  {
   "cell_type": "code",
   "execution_count": 19,
   "metadata": {},
   "outputs": [
    {
     "name": "stdout",
     "output_type": "stream",
     "text": [
      "i know alice\n",
      "i know bob\n",
      "i know charlie\n"
     ]
    }
   ],
   "source": [
    "for name in names:\n",
    "    if name == '':\n",
    "        continue\n",
    "    print(f'i know {name}')"
   ]
  },
  {
   "cell_type": "code",
   "execution_count": 18,
   "metadata": {},
   "outputs": [
    {
     "name": "stdout",
     "output_type": "stream",
     "text": [
      "i know alice\n",
      "i know bob\n",
      "i know charlie\n"
     ]
    }
   ],
   "source": [
    "for name in names:\n",
    "    if len(name) > 0:\n",
    "        print(f'i know {name}')"
   ]
  },
  {
   "cell_type": "code",
   "execution_count": 20,
   "metadata": {},
   "outputs": [
    {
     "data": {
      "text/plain": [
       "''"
      ]
     },
     "execution_count": 20,
     "metadata": {},
     "output_type": "execute_result"
    }
   ],
   "source": [
    " input('press enter to exit')"
   ]
  },
  {
   "cell_type": "code",
   "execution_count": 21,
   "metadata": {},
   "outputs": [
    {
     "name": "stdout",
     "output_type": "stream",
     "text": [
      "you have written\n",
      "\n",
      "\n",
      "story\n",
      "\n",
      "\n",
      "\n",
      "\n",
      "\n",
      "\n",
      "story = \"\"\n",
      "story = \"\"\n",
      "\n",
      "while\n",
      "\n"
     ]
    }
   ],
   "source": [
    "story = \"\"\n",
    "while True:\n",
    "    line = input(\"enter a line\")\n",
    "    if line == \"end\":\n",
    "        break\n",
    "    else:\n",
    "        story += line + \"\\n\"\n",
    "print(\"you have written\")       \n",
    "print(story)"
   ]
  },
  {
   "cell_type": "code",
   "execution_count": 22,
   "metadata": {},
   "outputs": [
    {
     "name": "stdout",
     "output_type": "stream",
     "text": [
      "\n",
      "\n",
      "story\n",
      "\n",
      "\n",
      "\n",
      "\n",
      "\n",
      "\n",
      "story = \"\"\n",
      "story = \"\"\n",
      "\n",
      "while\n",
      "\n"
     ]
    }
   ],
   "source": [
    "print(story)"
   ]
  },
  {
   "cell_type": "code",
   "execution_count": 23,
   "metadata": {},
   "outputs": [
    {
     "name": "stdout",
     "output_type": "stream",
     "text": [
      "we have apple\n",
      "we have banana\n",
      "we have mango\n",
      "thats all\n"
     ]
    }
   ],
   "source": [
    "fruits = ['apple', 'banana', 'mango']\n",
    "for fruit in fruits:\n",
    "    print('we have',fruit)\n",
    "else:\n",
    "    print('thats all')    "
   ]
  },
  {
   "cell_type": "code",
   "execution_count": 24,
   "metadata": {},
   "outputs": [
    {
     "name": "stdout",
     "output_type": "stream",
     "text": [
      "apple\n",
      "banana\n",
      "cherry\n"
     ]
    }
   ],
   "source": [
    "fruits = ['apple','banana', 'cherry', 'date', 'eggplant']\n",
    "\n",
    "for fruit in fruits:\n",
    "    print(fruit)\n",
    "    if fruit == 'cherry':\n",
    "        break\n",
    "else:\n",
    "    print('all fruits are listed')    "
   ]
  },
  {
   "cell_type": "code",
   "execution_count": 29,
   "metadata": {},
   "outputs": [],
   "source": [
    "number = int(input('enter a number'))\n",
    "for i in range(2,number):\n",
    "    if number % i == 0:\n",
    "        print(f'{number} is not a prime number')\n",
    "        break\n",
    "else:\n",
    "    print(f'{number} is a 👑 prime number')    "
   ]
  },
  {
   "cell_type": "code",
   "execution_count": null,
   "metadata": {},
   "outputs": [],
   "source": [
    "# wap a to add all number of the digit using while loop\n",
    "\n"
   ]
  },
  {
   "cell_type": "code",
   "execution_count": null,
   "metadata": {},
   "outputs": [],
   "source": [
    "names = ['alice','bob']"
   ]
  },
  {
   "cell_type": "code",
   "execution_count": 15,
   "metadata": {},
   "outputs": [
    {
     "ename": "NameError",
     "evalue": "name 'names' is not defined",
     "output_type": "error",
     "traceback": [
      "\u001b[1;31m---------------------------------------------------------------------------\u001b[0m",
      "\u001b[1;31mNameError\u001b[0m                                 Traceback (most recent call last)",
      "\u001b[1;32mc:\\Users\\Infosys Solutions\\Documents\\jaya python\\loops.ipynb Cell 38'\u001b[0m in \u001b[0;36m<cell line: 1>\u001b[1;34m()\u001b[0m\n\u001b[1;32m----> <a href='vscode-notebook-cell:/c%3A/Users/Infosys%20Solutions/Documents/jaya%20python/loops.ipynb#ch0000040?line=0'>1</a>\u001b[0m \u001b[39mfor\u001b[39;00m i,name \u001b[39min\u001b[39;00m \u001b[39menumerate\u001b[39m(names):\n\u001b[0;32m      <a href='vscode-notebook-cell:/c%3A/Users/Infosys%20Solutions/Documents/jaya%20python/loops.ipynb#ch0000040?line=1'>2</a>\u001b[0m     \u001b[39mprint\u001b[39m(i,name,\u001b[39mlen\u001b[39m(names))\n",
      "\u001b[1;31mNameError\u001b[0m: name 'names' is not defined"
     ]
    }
   ],
   "source": [
    "for i,name in enumerate(names):\n",
    "    print(i,name,len(names))"
   ]
  },
  {
   "cell_type": "code",
   "execution_count": 1,
   "metadata": {},
   "outputs": [],
   "source": [
    "from string import ascii_lowercase"
   ]
  },
  {
   "cell_type": "code",
   "execution_count": 2,
   "metadata": {},
   "outputs": [
    {
     "name": "stdout",
     "output_type": "stream",
     "text": [
      "abcdefghijklmnopqrstuvwxyz\n"
     ]
    }
   ],
   "source": [
    "print(ascii_lowercase)"
   ]
  },
  {
   "cell_type": "code",
   "execution_count": 3,
   "metadata": {},
   "outputs": [
    {
     "name": "stdout",
     "output_type": "stream",
     "text": [
      "a\n",
      "b\n",
      "c\n",
      "d\n",
      "e\n",
      "f\n",
      "g\n",
      "h\n",
      "i\n",
      "j\n",
      "k\n"
     ]
    }
   ],
   "source": [
    "for p,i in enumerate(ascii_lowercase):\n",
    "    print(i)\n",
    "    if p == 10:\n",
    "        break"
   ]
  },
  {
   "cell_type": "code",
   "execution_count": 7,
   "metadata": {},
   "outputs": [],
   "source": [
    "fruits = ['apple','banana','cherry','date','eggplant']\n",
    "prices = [100.00,40.00,120.00,200.00,25.00]\n",
    "qty = [12,15,100,50,3]"
   ]
  },
  {
   "cell_type": "code",
   "execution_count": 10,
   "metadata": {},
   "outputs": [
    {
     "name": "stdout",
     "output_type": "stream",
     "text": [
      "apple costs 100.0 12\n",
      "banana costs 40.0 15\n",
      "cherry costs 120.0 100\n",
      "date costs 200.0 50\n",
      "eggplant costs 25.0 3\n"
     ]
    }
   ],
   "source": [
    "for fr,pr,qt in zip(fruits,prices,qty):\n",
    "    print(f'{fr} costs {pr} {qt}')"
   ]
  },
  {
   "cell_type": "code",
   "execution_count": null,
   "metadata": {},
   "outputs": [],
   "source": []
  }
 ],
 "metadata": {
  "interpreter": {
   "hash": "e81d28461f6f899f1a26af0bc7a84c40cadece640d2bc8d7eeaa30473e07ec92"
  },
  "kernelspec": {
   "display_name": "Python 3.9.7 64-bit",
   "language": "python",
   "name": "python3"
  },
  "language_info": {
   "codemirror_mode": {
    "name": "ipython",
    "version": 3
   },
   "file_extension": ".py",
   "mimetype": "text/x-python",
   "name": "python",
   "nbconvert_exporter": "python",
   "pygments_lexer": "ipython3",
   "version": "3.9.7"
  },
  "orig_nbformat": 4
 },
 "nbformat": 4,
 "nbformat_minor": 2
}
